{
 "cells": [
  {
   "cell_type": "markdown",
   "metadata": {},
   "source": [
    "## Visualization for Dask Expiriment Data\n",
    "https://arxiv.org/pdf/1711.00489.pdf"
   ]
  },
  {
   "cell_type": "code",
   "execution_count": 28,
   "metadata": {},
   "outputs": [],
   "source": [
    "import pandas as pd\n",
    "import os\n",
    "import matplotlib.pyplot as plt"
   ]
  },
  {
   "cell_type": "code",
   "execution_count": 2,
   "metadata": {},
   "outputs": [
    {
     "data": {
      "text/plain": [
       "'/Users/joeholt/Developer/next-lab/adadamp-experiments/exp-dask'"
      ]
     },
     "execution_count": 2,
     "metadata": {},
     "output_type": "execute_result"
    }
   ],
   "source": [
    "os.getcwd()"
   ]
  },
  {
   "cell_type": "code",
   "execution_count": 43,
   "metadata": {},
   "outputs": [],
   "source": [
    "def build_times(times):\n",
    "    new_times = [0 for _ in range(len(times))]\n",
    "    new_times[0] = times[0]\n",
    "    for i in range(1, len(times)):\n",
    "        new_times[i] = times[i] + new_times[i - 1]\n",
    "    return new_times"
   ]
  },
  {
   "cell_type": "code",
   "execution_count": 78,
   "metadata": {},
   "outputs": [],
   "source": [
    "def plot_time_vs(stats, field2, y_label):\n",
    "    # get data\n",
    "    stats = list(stats.T.to_dict().values())\n",
    "    time_for_epoch = lambda stat: stat['partial_fit__time'] + stat['score__time']\n",
    "    times = [time_for_epoch(stat) for stat in stats]\n",
    "    times = build_times(times)\n",
    "    accs = [stat[field2] for stat in stats]\n",
    "    assert len(times) == len(accs)\n",
    "    \n",
    "    # plot data\n",
    "    fig = plt.figure()\n",
    "    ax = fig.add_subplot(111)\n",
    "    ax.plot(times, accs)\n",
    "    ax.set_xlabel('Training Time (s)')\n",
    "    ax.set_ylabel(y_label)\n",
    "    ax.grid()\n",
    "    return ax"
   ]
  },
  {
   "cell_type": "code",
   "execution_count": 96,
   "metadata": {},
   "outputs": [],
   "source": [
    "dec_lr_file = './sim-results/dec-lr/results-ep120.csv' # './stats/decreasing-lr/exp--final.csv'\n",
    "decreasing_lr_stats = pd.read_csv(dec_lr_file)"
   ]
  },
  {
   "cell_type": "code",
   "execution_count": 98,
   "metadata": {},
   "outputs": [
    {
     "data": {
      "image/png": "[encoded data removed]",
      "text/plain": [
       "<Figure size 432x288 with 1 Axes>"
      ]
     },
     "metadata": {
      "needs_background": "light"
     },
     "output_type": "display_data"
    }
   ],
   "source": [
    "ax = plot_time_vs(decreasing_lr_stats, 'score__loss', 'Loss')"
   ]
  },
  {
   "cell_type": "code",
   "execution_count": null,
   "metadata": {},
   "outputs": [],
   "source": []
  }
 ],
 "metadata": {
  "kernelspec": {
   "display_name": "adadamp",
   "language": "python",
   "name": "adadamp"
  },
  "language_info": {
   "codemirror_mode": {
    "name": "ipython",
    "version": 3
   },
   "file_extension": ".py",
   "mimetype": "text/x-python",
   "name": "python",
   "nbconvert_exporter": "python",
   "pygments_lexer": "ipython3",
   "version": "3.7.9"
  }
 },
 "nbformat": 4,
 "nbformat_minor": 4
}
