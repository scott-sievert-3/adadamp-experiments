{
 "cells": [
  {
   "cell_type": "markdown",
   "metadata": {},
   "source": [
    "## Simulate running on multiple GPUs"
   ]
  },
  {
   "cell_type": "code",
   "execution_count": 1,
   "metadata": {},
   "outputs": [],
   "source": [
    "from dask.distributed import Client"
   ]
  },
  {
   "cell_type": "code",
   "execution_count": 2,
   "metadata": {},
   "outputs": [],
   "source": [
    "%load_ext autoreload\n",
    "%autoreload 2"
   ]
  },
  {
   "cell_type": "code",
   "execution_count": 3,
   "metadata": {},
   "outputs": [],
   "source": [
    "import os\n",
    "os.chdir('/home/ubuntu/adadamp-experiments/')\n",
    "\n",
    "import torch\n",
    "import torchvision\n",
    "import torchvision.transforms as transforms\n",
    "import torch.nn as nn\n",
    "import csv\n",
    "import importlib\n",
    "import pandas as pd\n",
    "from time import time\n",
    "from copy import copy"
   ]
  },
  {
   "cell_type": "code",
   "execution_count": 4,
   "metadata": {},
   "outputs": [],
   "source": [
    "# import simulator\n",
    "os.chdir('/home/ubuntu/adadamp-experiments/')\n",
    "classifier = importlib.import_module(\"exp-dask.classifier\")\n",
    "from classifier import DaskClassifierSimulator"
   ]
  },
  {
   "cell_type": "code",
   "execution_count": 5,
   "metadata": {},
   "outputs": [
    {
     "data": {
      "text/html": [
       "<table style=\"border: 2px solid white;\">\n",
       "<tr>\n",
       "<td style=\"vertical-align: top; border: 0px solid white\">\n",
       "<h3 style=\"text-align: left;\">Client</h3>\n",
       "<ul style=\"text-align: left; list-style: none; margin: 0; padding: 0;\">\n",
       "  <li><b>Scheduler: </b>inproc://172.31.40.124/4380/1</li>\n",
       "  <li><b>Dashboard: </b><a href='http://172.31.40.124:8787/status' target='_blank'>http://172.31.40.124:8787/status</a>\n",
       "</ul>\n",
       "</td>\n",
       "<td style=\"vertical-align: top; border: 0px solid white\">\n",
       "<h3 style=\"text-align: left;\">Cluster</h3>\n",
       "<ul style=\"text-align: left; list-style:none; margin: 0; padding: 0;\">\n",
       "  <li><b>Workers: </b>1</li>\n",
       "  <li><b>Cores: </b>4</li>\n",
       "  <li><b>Memory: </b>16.48 GB</li>\n",
       "</ul>\n",
       "</td>\n",
       "</tr>\n",
       "</table>"
      ],
      "text/plain": [
       "<Client: 'inproc://172.31.40.124/4380/1' processes=1 threads=4, memory=16.48 GB>"
      ]
     },
     "execution_count": 5,
     "metadata": {},
     "output_type": "execute_result"
    }
   ],
   "source": [
    "# training client\n",
    "from dask.distributed import Client\n",
    "\n",
    "def _prep():\n",
    "    from distributed.protocol import torch\n",
    "\n",
    "client = Client(processes=False)\n",
    "client.run(_prep)\n",
    "client"
   ]
  },
  {
   "cell_type": "code",
   "execution_count": 6,
   "metadata": {},
   "outputs": [
    {
     "name": "stdout",
     "output_type": "stream",
     "text": [
      "Files already downloaded and verified\n",
      "Files already downloaded and verified\n"
     ]
    }
   ],
   "source": [
    "transform_train = transforms.Compose([\n",
    "    transforms.RandomCrop(32, padding=4),\n",
    "    transforms.RandomHorizontalFlip(),\n",
    "    transforms.ToTensor(),\n",
    "    transforms.Normalize((0.4914, 0.4822, 0.4465), (0.2023, 0.1994, 0.2010)),\n",
    "])\n",
    "\n",
    "transform_test = transforms.Compose([\n",
    "    transforms.ToTensor(),\n",
    "    transforms.Normalize((0.4914, 0.4822, 0.4465), (0.2023, 0.1994, 0.2010)),\n",
    "])\n",
    "train_set = torchvision.datasets.CIFAR10(root='./exp-dask/data', train=True, download=True, transform=transform_train)\n",
    "test_set = torchvision.datasets.CIFAR10(root='./exp-dask/data', train=False, download=True, transform=transform_test)\n",
    "classes = ('plane', 'car', 'bird', 'cat', 'deer', 'dog', 'frog', 'horse', 'ship', 'truck')"
   ]
  },
  {
   "cell_type": "code",
   "execution_count": 7,
   "metadata": {},
   "outputs": [],
   "source": [
    "from model import Wide_ResNet\n",
    "\n",
    "client.upload_file(\"./exp-dask/model.py\")"
   ]
  },
  {
   "cell_type": "code",
   "execution_count": 8,
   "metadata": {},
   "outputs": [],
   "source": [
    "def write_stats(hist, directory, filename):\n",
    "    toCSV = hist\n",
    "    with open('./exp-dask/{}/{}'.format(directory, filename), 'w', encoding='utf8', newline='') as output_file:\n",
    "        fc = csv.DictWriter(output_file, fieldnames=toCSV[0].keys())\n",
    "        fc.writeheader()\n",
    "        fc.writerows(toCSV)"
   ]
  },
  {
   "cell_type": "code",
   "execution_count": 9,
   "metadata": {},
   "outputs": [],
   "source": [
    "def train(model, train_set, test_set, stats_df, n_epochs=200, log_interval=1, stats_dir=''):\n",
    "    \"\"\"\n",
    "    Train based on expiriment params\n",
    "    \n",
    "    Parameters:\n",
    "    epoch_sched: update lr and bs at epochs in this list\n",
    "    lr_sched: update lr to value at matching epoch. Should be same length as epoch_sched\n",
    "    bs_sched: update bs to value at matching epoch. Should be same length as epoch_sched\n",
    "    \"\"\"\n",
    "    \n",
    "    stats = list(stats_df.T.to_dict().values())\n",
    "    print(\"[SETUP] Loaded {} epochs of stats\".format(len(stats)))\n",
    "    \n",
    "    # preprocess data\n",
    "    start = time()\n",
    "    train_set = model.preprocess(train_set)\n",
    "    test_set = model.preprocess(test_set)\n",
    "    print(\"[SETUP] Pre-Processed in {} seconds\".format(time() - start))\n",
    "    \n",
    "    history = []\n",
    "    for epoch in range(min(n_epochs, len(stats))):\n",
    "        \n",
    "        start = time()\n",
    "        \n",
    "        # set stats\n",
    "        stat = stats.pop(0)\n",
    "        model.set_sim(stat)\n",
    "        \n",
    "        # run\n",
    "        print(\"[Epoch {}]\".format(epoch), end=\"\")\n",
    "        model.partial_fit(train_set)\n",
    "        score = model.score(test_set)\n",
    "        datum = {\"epoch\": epoch, \"score\": score, **model.get_params(), **model.meta_}\n",
    "        print(\" Score: {} in {} seconds\".format(score, time() - start))\n",
    "        history.append(datum)\n",
    "        \n",
    "        if epoch % log_interval == 0:\n",
    "            write_stats(history, stats_dir, 'results-ep{}.csv'.format(epoch))\n",
    "\n",
    "    return history"
   ]
  },
  {
   "cell_type": "code",
   "execution_count": 10,
   "metadata": {},
   "outputs": [],
   "source": [
    "def run_sim(stats_df_loc, out_folder, timings):\n",
    "    \n",
    "    print(\"Running simulation....\\n\\n\")\n",
    "    start = time()\n",
    "    \n",
    "    stats_df = pd.read_csv(stats_df_loc)\n",
    "    \n",
    "    if 'lr_' in stats_df.columns:\n",
    "        stats_df = stats_df.rename(columns={\"lr_\": \"partial_fit__lr\", \"damping_\": \"partial_fit__batch_size\"})\n",
    "    \n",
    "    init_lr = stats_df['partial_fit__lr'][0]\n",
    "    momentum = stats_df['optimizer__momentum'][0]\n",
    "    device = \"cpu\" if not torch.cuda.is_available() else \"cuda:0\"\n",
    "    \n",
    "    args = dict(\n",
    "        module=Wide_ResNet,\n",
    "        module__depth=16,\n",
    "        module__widen_factor=4,\n",
    "        module__dropout_rate=0.3,\n",
    "        module__num_classes=len(classes),\n",
    "        loss=torch.nn.CrossEntropyLoss,\n",
    "        optimizer=torch.optim.SGD,\n",
    "        optimizer__lr=init_lr,\n",
    "        optimizer__momentum=momentum,\n",
    "        optimizer__nesterov=True,\n",
    "        optimizer__weight_decay=0.5e-3,\n",
    "        batch_size=128,\n",
    "        max_epochs=200,\n",
    "        device=device,\n",
    "        grads_per_worker=128,\n",
    "        client=client\n",
    "    )\n",
    "    model = DaskClassifierSimulator(**args)\n",
    "    model.set_times(timings['score'], timings['deepcopy'], timings['grad128'])\n",
    "    \n",
    "    # train\n",
    "    hist = train(model, \n",
    "             train_set, \n",
    "             test_set, \n",
    "             stats_df,\n",
    "             n_epochs=200, \n",
    "             log_interval=20,\n",
    "             stats_dir=out_folder\n",
    "            )\n",
    "    write_stats(hist, out_folder, 'results-final.csv')\n",
    "    \n",
    "    print('Finished simulation in {} seconds'.format(time() - start))\n",
    "    "
   ]
  },
  {
   "cell_type": "code",
   "execution_count": null,
   "metadata": {},
   "outputs": [],
   "source": [
    "# test exp\n",
    "timings = { 'score': 0.0, 'deepcopy': 0.0, 'grad128': 0.0 }\n",
    "stats_path = './exp-dask/stats/decreasing-lr/exp--final.csv'\n",
    "out_path = 'sim-results/test'\n",
    "run_sim(stats_path, out_path, timings)"
   ]
  },
  {
   "cell_type": "code",
   "execution_count": 12,
   "metadata": {},
   "outputs": [],
   "source": [
    "## TIMINGS FOR NORMAL EXPERIMENTS\n",
    "SCORE_TIME = 0.0 # 5.39407711148262\n",
    "DEEPCOPY_TIME = 0.05855  # seconds\n",
    "GRAD_TIME_128 = 0.07832  # seconds\n",
    "timings = { 'score': SCORE_TIME, 'deepcopy': DEEPCOPY_TIME, 'grad128': GRAD_TIME_128 }"
   ]
  },
  {
   "cell_type": "code",
   "execution_count": null,
   "metadata": {},
   "outputs": [
    {
     "name": "stdout",
     "output_type": "stream",
     "text": [
      "Running simulation....\n",
      "\n",
      "\n",
      "[SETUP] Loaded 200 epochs of stats\n",
      "[SETUP] Pre-Processed in 17.791621685028076 seconds\n",
      "[Epoch 0]"
     ]
    }
   ],
   "source": [
    "# exp 1 - dec-lr-1-machine \n",
    "stats_path = './exp-dask/stats/decreasing-lr/exp--final.csv'\n",
    "out_path = 'sim-results/dec-lr-1-machine'\n",
    "run_sim(stats_path, out_path, timings)"
   ]
  },
  {
   "cell_type": "code",
   "execution_count": null,
   "metadata": {},
   "outputs": [],
   "source": [
    "# exp 2 - dec-lr-1-machine\n",
    "stats_path = './exp-dask/stats/increasing-bs/exp-final.csv'\n",
    "out_path = 'sim-results/inc-bs-1-machine'\n",
    "run_sim(stats_path, out_path, timings)"
   ]
  },
  {
   "cell_type": "code",
   "execution_count": null,
   "metadata": {},
   "outputs": [],
   "source": [
    "# exp 3 - hybrid 1 1 machine"
   ]
  },
  {
   "cell_type": "code",
   "execution_count": null,
   "metadata": {},
   "outputs": [],
   "source": [
    "# exp 4 - hybrid 2 1 machine"
   ]
  },
  {
   "cell_type": "code",
   "execution_count": null,
   "metadata": {},
   "outputs": [],
   "source": [
    "# exp 5 - large bs 1 1 machine"
   ]
  },
  {
   "cell_type": "code",
   "execution_count": null,
   "metadata": {},
   "outputs": [],
   "source": [
    "# exp 6 - large bs 2 1 machine"
   ]
  },
  {
   "cell_type": "code",
   "execution_count": null,
   "metadata": {},
   "outputs": [],
   "source": [
    "# exp 7 - dec-lr-P-machine "
   ]
  },
  {
   "cell_type": "code",
   "execution_count": null,
   "metadata": {},
   "outputs": [],
   "source": [
    "# exp 8 - dec-lr-P-machine"
   ]
  },
  {
   "cell_type": "code",
   "execution_count": null,
   "metadata": {},
   "outputs": [],
   "source": [
    "# exp 9 - hybrid 1 P machine"
   ]
  },
  {
   "cell_type": "code",
   "execution_count": null,
   "metadata": {},
   "outputs": [],
   "source": [
    "# exp 10 - hybrid 2 P machine"
   ]
  },
  {
   "cell_type": "code",
   "execution_count": null,
   "metadata": {},
   "outputs": [],
   "source": [
    "# exp 11 - large bs 1 P machine"
   ]
  },
  {
   "cell_type": "code",
   "execution_count": null,
   "metadata": {},
   "outputs": [],
   "source": [
    "# exp 12 - large bs 2 P machine"
   ]
  }
 ],
 "metadata": {
  "kernelspec": {
   "display_name": "Environment (conda_pytorch_latest_p37)",
   "language": "python",
   "name": "conda_pytorch_latest_p37"
  },
  "language_info": {
   "codemirror_mode": {
    "name": "ipython",
    "version": 3
   },
   "file_extension": ".py",
   "mimetype": "text/x-python",
   "name": "python",
   "nbconvert_exporter": "python",
   "pygments_lexer": "ipython3",
   "version": "3.7.6"
  }
 },
 "nbformat": 4,
 "nbformat_minor": 4
}
