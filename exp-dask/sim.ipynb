{
 "cells": [
  {
   "cell_type": "markdown",
   "metadata": {},
   "source": [
    "## Simulate DaskClassifier based on Timing Data"
   ]
  },
  {
   "cell_type": "code",
   "execution_count": 1,
   "metadata": {},
   "outputs": [],
   "source": [
    "import os\n",
    "import torch\n",
    "import torchvision\n",
    "import torchvision.transforms as transforms\n",
    "import csv\n",
    "import importlib\n",
    "import pandas as pd\n",
    "from time import time\n",
    "from copy import copy\n",
    "from model import Wide_ResNet"
   ]
  },
  {
   "cell_type": "code",
   "execution_count": 2,
   "metadata": {},
   "outputs": [],
   "source": [
    "# import simulator\n",
    "os.chdir('..')\n",
    "classifier = importlib.import_module(\"exp-dask.classifier\")\n",
    "from classifier import DaskClassifierSimulator"
   ]
  },
  {
   "cell_type": "code",
   "execution_count": 3,
   "metadata": {},
   "outputs": [
    {
     "data": {
      "text/html": [
       "<table style=\"border: 2px solid white;\">\n",
       "<tr>\n",
       "<td style=\"vertical-align: top; border: 0px solid white\">\n",
       "<h3 style=\"text-align: left;\">Client</h3>\n",
       "<ul style=\"text-align: left; list-style: none; margin: 0; padding: 0;\">\n",
       "  <li><b>Scheduler: </b>inproc://172.31.16.127/4804/1</li>\n",
       "  <li><b>Dashboard: </b><a href='http://172.31.16.127:8787/status' target='_blank'>http://172.31.16.127:8787/status</a>\n",
       "</ul>\n",
       "</td>\n",
       "<td style=\"vertical-align: top; border: 0px solid white\">\n",
       "<h3 style=\"text-align: left;\">Cluster</h3>\n",
       "<ul style=\"text-align: left; list-style:none; margin: 0; padding: 0;\">\n",
       "  <li><b>Workers: </b>16</li>\n",
       "  <li><b>Cores: </b>16</li>\n",
       "  <li><b>Memory: </b>512.00 GB</li>\n",
       "</ul>\n",
       "</td>\n",
       "</tr>\n",
       "</table>"
      ],
      "text/plain": [
       "<Client: 'inproc://172.31.16.127/4804/1' processes=16 threads=16, memory=512.00 GB>"
      ]
     },
     "execution_count": 3,
     "metadata": {},
     "output_type": "execute_result"
    }
   ],
   "source": [
    "# import\n",
    "from dask.distributed import Client\n",
    "# training client\n",
    "def _prep():\n",
    "    from distributed.protocol import torch\n",
    "\n",
    "client = Client(processes=False, n_workers=16, threads_per_worker=1, memory_limit=\"32GB\")\n",
    "client.run(_prep)\n",
    "\n",
    "#from model import Wide_ResNet\n",
    "client.upload_file(\"./exp-dask/model.py\")\n",
    "\n",
    "client"
   ]
  },
  {
   "cell_type": "code",
   "execution_count": 4,
   "metadata": {},
   "outputs": [
    {
     "name": "stdout",
     "output_type": "stream",
     "text": [
      "Files already downloaded and verified\n",
      "Files already downloaded and verified\n"
     ]
    }
   ],
   "source": [
    "# Gather and prepare data\n",
    "transform_train = transforms.Compose([\n",
    "    transforms.RandomCrop(32, padding=4),\n",
    "    transforms.RandomHorizontalFlip(),\n",
    "    transforms.ToTensor(),\n",
    "    transforms.Normalize((0.4914, 0.4822, 0.4465), (0.2023, 0.1994, 0.2010)),\n",
    "])\n",
    "\n",
    "transform_test = transforms.Compose([\n",
    "    transforms.ToTensor(),\n",
    "    transforms.Normalize((0.4914, 0.4822, 0.4465), (0.2023, 0.1994, 0.2010)),\n",
    "])\n",
    "train_set = torchvision.datasets.CIFAR10(root='./exp-dask/data', train=True, download=True, transform=transform_train)\n",
    "test_set = torchvision.datasets.CIFAR10(root='./exp-dask/data', train=False, download=True, transform=transform_test)\n",
    "classes = ('plane', 'car', 'bird', 'cat', 'deer', 'dog', 'frog', 'horse', 'ship', 'truck')"
   ]
  },
  {
   "cell_type": "code",
   "execution_count": 5,
   "metadata": {},
   "outputs": [],
   "source": [
    "def write_stats(hist, directory, filename):\n",
    "    with open('./exp-dask/{}/{}'.format(directory, filename), 'w', encoding='utf8', newline='') as output_file:\n",
    "        fc = csv.DictWriter(output_file, fieldnames=hist[0].keys())\n",
    "        fc.writeheader()\n",
    "        fc.writerows(hist)"
   ]
  },
  {
   "cell_type": "code",
   "execution_count": 6,
   "metadata": {},
   "outputs": [],
   "source": [
    "def train(model, train_set, test_set, stats_df, n_epochs=200, log_interval=1, stats_dir=''):\n",
    "    \"\"\"\n",
    "    Train based on expiriment params\n",
    "    \"\"\"\n",
    "    \n",
    "    # stats to load into the simulator\n",
    "    stats = list(stats_df.T.to_dict().values())\n",
    "    print(\"[SETUP] Loaded {} epochs of stats\".format(len(stats)))\n",
    "    \n",
    "    # preprocess data\n",
    "    start = time()\n",
    "    train_set = model.preprocess(train_set)\n",
    "    test_set = model.preprocess(test_set)\n",
    "    print(\"[SETUP] Pre-Processed in {} seconds\".format(time() - start))\n",
    "    \n",
    "    history = []\n",
    "    # run simulations over all sim data\n",
    "    for epoch in range(min(n_epochs, len(stats))):\n",
    "        \n",
    "        start = time()\n",
    "        \n",
    "        # set stats\n",
    "        stat = stats.pop(0)\n",
    "        model.set_sim(stat)\n",
    "        \n",
    "        # run\n",
    "        print(\"[Epoch {}]\".format(epoch), end=\"\")\n",
    "        model.partial_fit(train_set)\n",
    "        score = model.score(test_set)\n",
    "        \n",
    "        # store data\n",
    "        datum = {\"epoch\": epoch, \"score\": score, **model.get_params(), **model.meta_}\n",
    "        print(\" Score: {} in {} seconds\".format(score, time() - start))\n",
    "        history.append(datum)\n",
    "        \n",
    "        if epoch % log_interval == 0:\n",
    "            # write_stats(history, stats_dir, 'results-ep{}.csv'.format(epoch))\n",
    "            pass\n",
    "\n",
    "    return history"
   ]
  },
  {
   "cell_type": "code",
   "execution_count": 7,
   "metadata": {},
   "outputs": [],
   "source": [
    "def run_sim(stats_df_loc, out_folder, timings, n_epochs=200, grads_per_worker=128, max_bs=99999999):\n",
    "    \"\"\"\n",
    "    Sets up the simulator model, transforms stats (to account for changes in the base classifier and how\n",
    "    it saves data), and calls the train function.\n",
    "    \"\"\"\n",
    "    \n",
    "    print(\"Running simulation....\\n\\n\")\n",
    "    start = time()\n",
    "    \n",
    "    # stats from an actual training run\n",
    "    stats_df = pd.read_csv(stats_df_loc)\n",
    "    \n",
    "    # old versions of the DaskClassifier had different collumn names\n",
    "    if 'lr_' in stats_df.columns:\n",
    "        stats_df = stats_df.rename(columns={\"lr_\": \"partial_fit__lr\", \"batch_size_\": \"partial_fit__batch_size\"})\n",
    "    \n",
    "    # pull initial stats from the CSV\n",
    "    init_lr = stats_df['partial_fit__lr'][0]\n",
    "    init_bs = stats_df['partial_fit__batch_size'][0]\n",
    "    momentum = stats_df['optimizer__momentum'][0]\n",
    "    device = \"cpu\" if not torch.cuda.is_available() else \"cuda:0\"\n",
    "\n",
    "    # args\n",
    "    args = dict(\n",
    "        module=Wide_ResNet,\n",
    "        module__depth=16,\n",
    "        module__widen_factor=4,\n",
    "        module__dropout_rate=0.3,\n",
    "        module__num_classes=len(classes),\n",
    "        loss=torch.nn.CrossEntropyLoss,\n",
    "        optimizer=torch.optim.SGD,\n",
    "        optimizer__lr=init_lr,\n",
    "        optimizer__momentum=momentum,\n",
    "        optimizer__nesterov=True,\n",
    "        optimizer__weight_decay=0.5e-3,\n",
    "        batch_size=init_bs,\n",
    "        max_epochs=200,\n",
    "        device=device,\n",
    "        grads_per_worker=grads_per_worker,\n",
    "        client=client,\n",
    "        lr=init_lr,\n",
    "        max_batch_size=max_bs\n",
    "    )\n",
    "    \n",
    "    # create model and set initial timings\n",
    "    model = DaskClassifierSimulator(**args)\n",
    "    model.set_times(timings['mult'], timings['score'], timings['deepcopy'], timings['grad128'])\n",
    "    \n",
    "    # train based on normal train function\n",
    "    hist = train(model, \n",
    "             train_set, \n",
    "             test_set, \n",
    "             stats_df,\n",
    "             n_epochs=n_epochs, \n",
    "             log_interval=20,\n",
    "             stats_dir=out_folder\n",
    "            )\n",
    "    # write\n",
    "    with open(out_folder, 'w', encoding='utf8', newline='') as output_file:\n",
    "        fc = csv.DictWriter(output_file, fieldnames=hist[0].keys())\n",
    "        fc.writeheader()\n",
    "        fc.writerows(hist)\n",
    "    \n",
    "    print('Finished simulation in {} seconds'.format(time() - start))\n",
    "    "
   ]
  },
  {
   "cell_type": "code",
   "execution_count": null,
   "metadata": {},
   "outputs": [],
   "source": [
    "# test exp\n",
    "timings = { 'mult': True, 'score': 0.0, 'deepcopy': 0.0, 'grad128': 0.0 }\n",
    "stats_path = './exp-dask/stats/increasing-bs-final.csv'\n",
    "out_path = 'sim-results/test'\n",
    "run_sim(stats_path, out_path, timings, n_epochs=1)"
   ]
  },
  {
   "cell_type": "markdown",
   "metadata": {},
   "source": [
    "# Siming grads per worker\n",
    "Simulate the bs=512 experiments with differen numbers of grads per worker"
   ]
  },
  {
   "cell_type": "code",
   "execution_count": 8,
   "metadata": {},
   "outputs": [],
   "source": [
    "## Timings for new simulation\n",
    "SCORE_TIME = 0.0 # 5.39407711148262\n",
    "DEEPCOPY_TIME = 0.127488e-3  # seconds\n",
    "GRAD_TIME_128 = 0.5 * 78.32e-3\n",
    "timings = { 'mult': True, 'score': SCORE_TIME, 'deepcopy': DEEPCOPY_TIME, 'grad128': GRAD_TIME_128 }"
   ]
  },
  {
   "cell_type": "code",
   "execution_count": 9,
   "metadata": {},
   "outputs": [
    {
     "name": "stdout",
     "output_type": "stream",
     "text": [
      "Running simulation....\n",
      "\n",
      "\n",
      "[SETUP] Loaded 200 epochs of stats\n",
      "[SETUP] Pre-Processed in 19.061187744140625 seconds\n",
      "[Epoch 0] Score: 0.489799976348877 in 13.980453729629517 seconds\n",
      "[Epoch 1] Score: 0.6232999563217163 in 10.961429119110107 seconds\n",
      "[Epoch 2] Score: 0.6603999733924866 in 10.977453470230103 seconds\n",
      "[Epoch 3] Score: 0.7120999693870544 in 11.118677377700806 seconds\n",
      "[Epoch 4] Score: 0.7465999722480774 in 11.09188437461853 seconds\n",
      "[Epoch 5] Score: 0.7512999773025513 in 11.020839929580688 seconds\n",
      "[Epoch 6] Score: 0.7569999694824219 in 10.94118857383728 seconds\n",
      "[Epoch 7] Score: 0.7965999841690063 in 11.161171913146973 seconds\n",
      "[Epoch 8] Score: 0.7978999614715576 in 11.282478094100952 seconds\n",
      "[Epoch 9] Score: 0.8180999755859375 in 10.946798086166382 seconds\n",
      "[Epoch 10] Score: 0.8219999670982361 in 10.951257944107056 seconds\n",
      "[Epoch 11] Score: 0.8235999941825867 in 11.395576477050781 seconds\n",
      "[Epoch 12] Score: 0.8337999582290649 in 11.041080236434937 seconds\n",
      "[Epoch 13] Score: 0.8313999772071838 in 11.058517694473267 seconds\n",
      "[Epoch 14] Score: 0.8382999897003174 in 11.063857078552246 seconds\n",
      "[Epoch 15] Score: 0.8403999805450441 in 11.087274551391602 seconds\n",
      "[Epoch 16] Score: 0.8459999561309814 in 11.149138689041138 seconds\n",
      "[Epoch 17] Score: 0.8436999917030334 in 11.124158382415771 seconds\n",
      "[Epoch 18] Score: 0.8467999696731567 in 11.194175004959106 seconds\n",
      "[Epoch 19] Score: 0.8513999581336975 in 11.214188575744629 seconds\n",
      "[Epoch 20] Score: 0.8542999625205994 in 11.259972095489502 seconds\n",
      "[Epoch 21] Score: 0.8543999791145325 in 11.215569496154785 seconds\n",
      "[Epoch 22] Score: 0.8554999828338623 in 11.249070882797241 seconds\n",
      "[Epoch 23] Score: 0.863599956035614 in 11.218646049499512 seconds\n",
      "[Epoch 24] Score: 0.8666999936103821 in 11.289684534072876 seconds\n",
      "[Epoch 25] Score: 0.8707999587059021 in 11.315444707870483 seconds\n",
      "[Epoch 26] Score: 0.8693000078201294 in 11.265015363693237 seconds\n",
      "[Epoch 27] Score: 0.8611999750137329 in 10.794766187667847 seconds\n",
      "[Epoch 28] Score: 0.8693999648094177 in 11.327943563461304 seconds\n",
      "[Epoch 29] Score: 0.8661999702453613 in 11.33085560798645 seconds\n",
      "[Epoch 30] Score: 0.8639999628067017 in 11.385480880737305 seconds\n",
      "[Epoch 31] Score: 0.8593999743461609 in 11.340405702590942 seconds\n",
      "[Epoch 32] Score: 0.8725999593734741 in 10.788377285003662 seconds\n",
      "[Epoch 33] Score: 0.8689999580383301 in 11.431225538253784 seconds\n",
      "[Epoch 34] Score: 0.8748999834060669 in 11.500913381576538 seconds\n",
      "[Epoch 35] Score: 0.8736000061035156 in 11.44952940940857 seconds\n",
      "[Epoch 36] Score: 0.8833000063896179 in 10.833224296569824 seconds\n",
      "[Epoch 37] Score: 0.8728999495506287 in 11.58851671218872 seconds\n",
      "[Epoch 38] Score: 0.8733999729156494 in 11.53075385093689 seconds\n",
      "[Epoch 39] Score: 0.8812999725341797 in 10.853161334991455 seconds\n",
      "[Epoch 40] Score: 0.8770999908447266 in 11.596461534500122 seconds\n",
      "[Epoch 41] Score: 0.8791999816894531 in 11.602306842803955 seconds\n",
      "[Epoch 42] Score: 0.8736000061035156 in 10.780575037002563 seconds\n",
      "[Epoch 43] Score: 0.8817999958992004 in 11.623286724090576 seconds\n",
      "[Epoch 44] Score: 0.8812999725341797 in 11.568198680877686 seconds\n",
      "[Epoch 45] Score: 0.8811999559402466 in 10.821499109268188 seconds\n",
      "[Epoch 46] Score: 0.8750999569892883 in 11.676537036895752 seconds\n",
      "[Epoch 47] Score: 0.8782999515533447 in 10.794872522354126 seconds\n",
      "[Epoch 48] Score: 0.8828999996185303 in 11.672902345657349 seconds\n",
      "[Epoch 49] Score: 0.8728999495506287 in 11.652520179748535 seconds\n",
      "[Epoch 50] Score: 0.8775999546051025 in 10.83383297920227 seconds\n",
      "[Epoch 51] Score: 0.8805999755859375 in 11.777829885482788 seconds\n",
      "[Epoch 52] Score: 0.8757999539375305 in 10.877596378326416 seconds\n",
      "[Epoch 53] Score: 0.8779000043869019 in 11.73745584487915 seconds\n",
      "[Epoch 54] Score: 0.8847999572753906 in 11.716774702072144 seconds\n",
      "[Epoch 55] Score: 0.8851000070571899 in 10.809767007827759 seconds\n",
      "[Epoch 56] Score: 0.8819999694824219 in 11.823389291763306 seconds\n",
      "[Epoch 57] Score: 0.882099986076355 in 10.867840051651001 seconds\n",
      "[Epoch 58] Score: 0.8784999847412109 in 11.793266534805298 seconds\n",
      "[Epoch 59] Score: 0.8831999897956848 in 10.871099472045898 seconds\n",
      "[Epoch 60] Score: 0.9025999903678894 in 11.829918146133423 seconds\n",
      "[Epoch 61] Score: 0.9042999744415284 in 10.901204586029053 seconds\n",
      "[Epoch 62] Score: 0.9083999991416932 in 11.910188913345337 seconds\n",
      "[Epoch 63] Score: 0.9065999984741212 in 10.82069444656372 seconds\n",
      "[Epoch 64] Score: 0.9041999578475952 in 11.979736566543579 seconds\n",
      "[Epoch 65] Score: 0.9070999622344972 in 10.891552209854126 seconds\n",
      "[Epoch 66] Score: 0.9077999591827391 in 12.008565425872803 seconds\n",
      "[Epoch 67] Score: 0.9038999676704408 in 10.956153631210327 seconds\n",
      "[Epoch 68] Score: 0.9078999757766724 in 12.0437490940094 seconds\n",
      "[Epoch 69] Score: 0.90829998254776 in 10.900104761123657 seconds\n",
      "[Epoch 70] Score: 0.9052000045776368 in 12.034752368927002 seconds\n",
      "[Epoch 71] Score: 0.9041000008583068 in 10.892655611038208 seconds\n",
      "[Epoch 72] Score: 0.9052000045776368 in 12.26617431640625 seconds\n",
      "[Epoch 73] Score: 0.9065999984741212 in 10.892009258270264 seconds\n",
      "[Epoch 74] Score: 0.9071999788284302 in 12.080393075942993 seconds\n",
      "[Epoch 75] Score: 0.903599977493286 in 10.892161846160889 seconds\n",
      "[Epoch 76] Score: 0.9041000008583068 in 12.092350482940674 seconds\n",
      "[Epoch 77] Score: 0.9049999713897704 in 10.9093177318573 seconds\n",
      "[Epoch 78] Score: 0.9048999547958374 in 12.088573694229126 seconds\n",
      "[Epoch 79] Score: 0.9080999493598938 in 10.877161741256714 seconds\n",
      "[Epoch 80] Score: 0.9048999547958374 in 12.119725704193115 seconds\n",
      "[Epoch 81] Score: 0.9057999849319458 in 10.904914855957031 seconds\n",
      "[Epoch 82] Score: 0.9047999978065492 in 12.195551633834839 seconds\n",
      "[Epoch 83] Score: 0.901799976825714 in 10.89952540397644 seconds\n",
      "[Epoch 84] Score: 0.9053999781608582 in 10.954294681549072 seconds\n",
      "[Epoch 85] Score: 0.9061999917030334 in 12.153676271438599 seconds\n",
      "[Epoch 86] Score: 0.9088000059127808 in 10.977859497070312 seconds\n",
      "[Epoch 87] Score: 0.9049999713897704 in 12.219146966934204 seconds\n",
      "[Epoch 88] Score: 0.9025999903678894 in 10.989320278167725 seconds\n",
      "[Epoch 89] Score: 0.9055999517440796 in 12.21871542930603 seconds\n",
      "[Epoch 90] Score: 0.9070000052452089 in 10.968676328659058 seconds\n",
      "[Epoch 91] Score: 0.9059999585151672 in 10.973658084869385 seconds\n",
      "[Epoch 92] Score: 0.9067999720573424 in 12.30575156211853 seconds\n",
      "[Epoch 93] Score: 0.9062999486923218 in 10.943934917449951 seconds\n",
      "[Epoch 94]"
     ]
    },
    {
     "name": "stderr",
     "output_type": "stream",
     "text": [
      "distributed.utils_perf - WARNING - full garbage collections took 10% CPU time recently (threshold: 10%)\n"
     ]
    },
    {
     "name": "stdout",
     "output_type": "stream",
     "text": [
      " Score: 0.905299961566925 in 12.330555200576782 seconds\n",
      "[Epoch 95] Score: 0.9052000045776368 in 10.896064519882202 seconds\n",
      "[Epoch 96]"
     ]
    },
    {
     "name": "stderr",
     "output_type": "stream",
     "text": [
      "distributed.utils_perf - WARNING - full garbage collections took 10% CPU time recently (threshold: 10%)\n"
     ]
    },
    {
     "name": "stdout",
     "output_type": "stream",
     "text": [
      " Score: 0.9052000045776368 in 12.31101393699646 seconds\n",
      "[Epoch 97] Score: 0.9028999805450441 in 10.958357572555542 seconds\n",
      "[Epoch 98] Score: 0.9045999646186828 in 10.958157300949097 seconds\n",
      "[Epoch 99]"
     ]
    },
    {
     "name": "stderr",
     "output_type": "stream",
     "text": [
      "distributed.utils_perf - WARNING - full garbage collections took 10% CPU time recently (threshold: 10%)\n"
     ]
    },
    {
     "name": "stdout",
     "output_type": "stream",
     "text": [
      " Score: 0.9059000015258788 in 12.35818362236023 seconds\n",
      "[Epoch 100] Score: 0.9034000039100648 in 11.077972173690796 seconds\n",
      "[Epoch 101]"
     ]
    },
    {
     "name": "stderr",
     "output_type": "stream",
     "text": [
      "distributed.utils_perf - WARNING - full garbage collections took 10% CPU time recently (threshold: 10%)\n"
     ]
    },
    {
     "name": "stdout",
     "output_type": "stream",
     "text": [
      " Score: 0.9061999917030334 in 12.395473718643188 seconds\n",
      "[Epoch 102] Score: 0.9066999554634094 in 10.973371982574463 seconds\n",
      "[Epoch 103] Score: 0.9053999781608582 in 11.012974262237549 seconds\n",
      "[Epoch 104]"
     ]
    },
    {
     "name": "stderr",
     "output_type": "stream",
     "text": [
      "distributed.utils_perf - WARNING - full garbage collections took 10% CPU time recently (threshold: 10%)\n"
     ]
    },
    {
     "name": "stdout",
     "output_type": "stream",
     "text": [
      " Score: 0.9042999744415284 in 12.379153966903687 seconds\n",
      "[Epoch 105] Score: 0.9081999659538268 in 10.937299966812134 seconds\n",
      "[Epoch 106]"
     ]
    },
    {
     "name": "stderr",
     "output_type": "stream",
     "text": [
      "distributed.utils_perf - WARNING - full garbage collections took 10% CPU time recently (threshold: 10%)\n"
     ]
    },
    {
     "name": "stdout",
     "output_type": "stream",
     "text": [
      " Score: 0.9077000021934508 in 12.352702379226685 seconds\n",
      "[Epoch 107] Score: 0.9039999842643738 in 10.99967908859253 seconds\n",
      "[Epoch 108] Score: 0.9030999541282654 in 10.991552591323853 seconds\n",
      "[Epoch 109]"
     ]
    },
    {
     "name": "stderr",
     "output_type": "stream",
     "text": [
      "distributed.utils_perf - WARNING - full garbage collections took 11% CPU time recently (threshold: 10%)\n"
     ]
    },
    {
     "name": "stdout",
     "output_type": "stream",
     "text": [
      " Score: 0.9081999659538268 in 12.521826982498169 seconds\n",
      "[Epoch 110] Score: 0.9027999639511108 in 10.9948148727417 seconds\n",
      "[Epoch 111] Score: 0.9048999547958374 in 10.98786973953247 seconds\n",
      "[Epoch 112]"
     ]
    },
    {
     "name": "stderr",
     "output_type": "stream",
     "text": [
      "distributed.utils_perf - WARNING - full garbage collections took 11% CPU time recently (threshold: 10%)\n"
     ]
    },
    {
     "name": "stdout",
     "output_type": "stream",
     "text": [
      " Score: 0.9065999984741212 in 12.502586126327515 seconds\n",
      "[Epoch 113] Score: 0.9044999480247498 in 11.014880180358887 seconds\n",
      "[Epoch 114]"
     ]
    },
    {
     "name": "stderr",
     "output_type": "stream",
     "text": [
      "distributed.utils_perf - WARNING - full garbage collections took 11% CPU time recently (threshold: 10%)\n"
     ]
    },
    {
     "name": "stdout",
     "output_type": "stream",
     "text": [
      " Score: 0.9016000032424928 in 12.789852619171143 seconds\n",
      "[Epoch 115] Score: 0.901099979877472 in 11.078612089157104 seconds\n",
      "[Epoch 116] Score: 0.904699981212616 in 10.97553563117981 seconds\n",
      "[Epoch 117]"
     ]
    },
    {
     "name": "stderr",
     "output_type": "stream",
     "text": [
      "distributed.utils_perf - WARNING - full garbage collections took 11% CPU time recently (threshold: 10%)\n"
     ]
    },
    {
     "name": "stdout",
     "output_type": "stream",
     "text": [
      " Score: 0.9018999934196472 in 12.523133754730225 seconds\n",
      "[Epoch 118] Score: 0.9063999652862548 in 10.961885929107666 seconds\n",
      "[Epoch 119] Score: 0.9024999737739564 in 11.023693323135376 seconds\n",
      "[Epoch 120]"
     ]
    },
    {
     "name": "stderr",
     "output_type": "stream",
     "text": [
      "distributed.utils_perf - WARNING - full garbage collections took 11% CPU time recently (threshold: 10%)\n"
     ]
    },
    {
     "name": "stdout",
     "output_type": "stream",
     "text": [
      " Score: 0.9045999646186828 in 12.653643131256104 seconds\n",
      "[Epoch 121] Score: 0.9104999899864196 in 10.97364854812622 seconds\n",
      "[Epoch 122]"
     ]
    },
    {
     "name": "stderr",
     "output_type": "stream",
     "text": [
      "distributed.utils_perf - WARNING - full garbage collections took 11% CPU time recently (threshold: 10%)\n"
     ]
    },
    {
     "name": "stdout",
     "output_type": "stream",
     "text": [
      " Score: 0.9047999978065492 in 12.61484956741333 seconds\n",
      "[Epoch 123] Score: 0.9095999598503112 in 10.973676919937134 seconds\n",
      "[Epoch 124] Score: 0.9077999591827391 in 10.97212553024292 seconds\n",
      "[Epoch 125]"
     ]
    },
    {
     "name": "stderr",
     "output_type": "stream",
     "text": [
      "distributed.utils_perf - WARNING - full garbage collections took 12% CPU time recently (threshold: 10%)\n"
     ]
    },
    {
     "name": "stdout",
     "output_type": "stream",
     "text": [
      " Score: 0.9114999771118164 in 12.630521535873413 seconds\n",
      "[Epoch 126] Score: 0.9092999696731568 in 11.047952890396118 seconds\n",
      "[Epoch 127] Score: 0.9088000059127808 in 11.007213115692139 seconds\n",
      "[Epoch 128]"
     ]
    },
    {
     "name": "stderr",
     "output_type": "stream",
     "text": [
      "distributed.utils_perf - WARNING - full garbage collections took 12% CPU time recently (threshold: 10%)\n"
     ]
    },
    {
     "name": "stdout",
     "output_type": "stream",
     "text": [
      " Score: 0.9088000059127808 in 12.714829683303833 seconds\n",
      "[Epoch 129] Score: 0.9088000059127808 in 11.090700149536133 seconds\n",
      "[Epoch 130] Score: 0.9072999954223632 in 11.03724479675293 seconds\n",
      "[Epoch 131]"
     ]
    },
    {
     "name": "stderr",
     "output_type": "stream",
     "text": [
      "distributed.utils_perf - WARNING - full garbage collections took 12% CPU time recently (threshold: 10%)\n"
     ]
    },
    {
     "name": "stdout",
     "output_type": "stream",
     "text": [
      " Score: 0.910099983215332 in 12.637057542800903 seconds\n",
      "[Epoch 132] Score: 0.9099999666213988 in 10.995158672332764 seconds\n",
      "[Epoch 133] Score: 0.9073999524116516 in 11.019011974334717 seconds\n",
      "[Epoch 134]"
     ]
    },
    {
     "name": "stderr",
     "output_type": "stream",
     "text": [
      "distributed.utils_perf - WARNING - full garbage collections took 11% CPU time recently (threshold: 10%)\n"
     ]
    },
    {
     "name": "stdout",
     "output_type": "stream",
     "text": [
      " Score: 0.9126999974250792 in 12.683862686157227 seconds\n",
      "[Epoch 135] Score: 0.9103999733924866 in 10.972424268722534 seconds\n",
      "[Epoch 136] Score: 0.9085999727249146 in 10.942176342010498 seconds\n",
      "[Epoch 137]"
     ]
    },
    {
     "name": "stderr",
     "output_type": "stream",
     "text": [
      "distributed.utils_perf - WARNING - full garbage collections took 11% CPU time recently (threshold: 10%)\n"
     ]
    },
    {
     "name": "stdout",
     "output_type": "stream",
     "text": [
      " Score: 0.9103999733924866 in 12.763888835906982 seconds\n",
      "[Epoch 138] Score: 0.9097999930381776 in 10.978268146514893 seconds\n",
      "[Epoch 139] Score: 0.9088999629020692 in 10.988025426864624 seconds\n",
      "[Epoch 140]"
     ]
    },
    {
     "name": "stderr",
     "output_type": "stream",
     "text": [
      "distributed.utils_perf - WARNING - full garbage collections took 11% CPU time recently (threshold: 10%)\n"
     ]
    },
    {
     "name": "stdout",
     "output_type": "stream",
     "text": [
      " Score: 0.9089999794960022 in 12.69076418876648 seconds\n",
      "[Epoch 141] Score: 0.910099983215332 in 10.990357160568237 seconds\n",
      "[Epoch 142] Score: 0.9107999801635742 in 11.002029657363892 seconds\n",
      "[Epoch 143]"
     ]
    },
    {
     "name": "stderr",
     "output_type": "stream",
     "text": [
      "distributed.utils_perf - WARNING - full garbage collections took 11% CPU time recently (threshold: 10%)\n"
     ]
    },
    {
     "name": "stdout",
     "output_type": "stream",
     "text": [
      " Score: 0.9115999937057496 in 13.41951060295105 seconds\n",
      "[Epoch 144] Score: 0.9121999740600586 in 11.023685216903687 seconds\n",
      "[Epoch 145] Score: 0.9092999696731568 in 10.98939561843872 seconds\n",
      "[Epoch 146]"
     ]
    },
    {
     "name": "stderr",
     "output_type": "stream",
     "text": [
      "distributed.utils_perf - WARNING - full garbage collections took 11% CPU time recently (threshold: 10%)\n"
     ]
    },
    {
     "name": "stdout",
     "output_type": "stream",
     "text": [
      " Score: 0.9103999733924866 in 12.859052181243896 seconds\n",
      "[Epoch 147] Score: 0.910099983215332 in 10.96691632270813 seconds\n",
      "[Epoch 148] Score: 0.9122999906539916 in 10.972348690032959 seconds\n",
      "[Epoch 149]"
     ]
    },
    {
     "name": "stderr",
     "output_type": "stream",
     "text": [
      "distributed.utils_perf - WARNING - full garbage collections took 11% CPU time recently (threshold: 10%)\n"
     ]
    },
    {
     "name": "stdout",
     "output_type": "stream",
     "text": [
      " Score: 0.909500002861023 in 12.814122200012207 seconds\n",
      "[Epoch 150] Score: 0.909500002861023 in 10.992818832397461 seconds\n",
      "[Epoch 151] Score: 0.9085999727249146 in 11.100997924804688 seconds\n",
      "[Epoch 152]"
     ]
    },
    {
     "name": "stderr",
     "output_type": "stream",
     "text": [
      "distributed.utils_perf - WARNING - full garbage collections took 11% CPU time recently (threshold: 10%)\n"
     ]
    },
    {
     "name": "stdout",
     "output_type": "stream",
     "text": [
      " Score: 0.9068999886512756 in 12.802420854568481 seconds\n",
      "[Epoch 153] Score: 0.9056999683380128 in 10.955113410949707 seconds\n",
      "[Epoch 154] Score: 0.9092999696731568 in 10.98620080947876 seconds\n",
      "[Epoch 155]"
     ]
    },
    {
     "name": "stderr",
     "output_type": "stream",
     "text": [
      "distributed.utils_perf - WARNING - full garbage collections took 11% CPU time recently (threshold: 10%)\n"
     ]
    },
    {
     "name": "stdout",
     "output_type": "stream",
     "text": [
      " Score: 0.9095999598503112 in 13.004130363464355 seconds\n",
      "[Epoch 156] Score: 0.911199986934662 in 11.089705467224121 seconds\n",
      "[Epoch 157] Score: 0.9109999537467957 in 10.97256588935852 seconds\n",
      "[Epoch 158]"
     ]
    },
    {
     "name": "stderr",
     "output_type": "stream",
     "text": [
      "distributed.utils_perf - WARNING - full garbage collections took 11% CPU time recently (threshold: 10%)\n"
     ]
    },
    {
     "name": "stdout",
     "output_type": "stream",
     "text": [
      " Score: 0.9084999561309814 in 12.93846583366394 seconds\n",
      "[Epoch 159] Score: 0.9098999500274658 in 11.081862688064575 seconds\n",
      "[Epoch 160] Score: 0.9091999530792236 in 10.997564792633057 seconds\n",
      "[Epoch 161]"
     ]
    },
    {
     "name": "stderr",
     "output_type": "stream",
     "text": [
      "distributed.utils_perf - WARNING - full garbage collections took 11% CPU time recently (threshold: 10%)\n"
     ]
    },
    {
     "name": "stdout",
     "output_type": "stream",
     "text": [
      " Score: 0.9091999530792236 in 13.027574300765991 seconds\n",
      "[Epoch 162] Score: 0.9093999862670898 in 11.06058955192566 seconds\n",
      "[Epoch 163] Score: 0.90829998254776 in 11.001221895217896 seconds\n",
      "[Epoch 164] Score: 0.9067999720573424 in 10.992085933685303 seconds\n",
      "[Epoch 165]"
     ]
    },
    {
     "name": "stderr",
     "output_type": "stream",
     "text": [
      "distributed.utils_perf - WARNING - full garbage collections took 11% CPU time recently (threshold: 10%)\n"
     ]
    },
    {
     "name": "stdout",
     "output_type": "stream",
     "text": [
      " Score: 0.9075999855995178 in 13.017246007919312 seconds\n",
      "[Epoch 166] Score: 0.9106999635696412 in 10.92345404624939 seconds\n",
      "[Epoch 167] Score: 0.9101999998092652 in 10.970479488372803 seconds\n",
      "[Epoch 168]"
     ]
    },
    {
     "name": "stderr",
     "output_type": "stream",
     "text": [
      "distributed.utils_perf - WARNING - full garbage collections took 11% CPU time recently (threshold: 10%)\n"
     ]
    },
    {
     "name": "stdout",
     "output_type": "stream",
     "text": [
      " Score: 0.9084999561309814 in 13.016010999679565 seconds\n",
      "[Epoch 169] Score: 0.9075999855995178 in 10.973253965377808 seconds\n",
      "[Epoch 170] Score: 0.9084999561309814 in 10.98985242843628 seconds\n",
      "[Epoch 171] Score: 0.9079999923706056 in 10.96037769317627 seconds\n",
      "[Epoch 172]"
     ]
    },
    {
     "name": "stderr",
     "output_type": "stream",
     "text": [
      "distributed.utils_perf - WARNING - full garbage collections took 11% CPU time recently (threshold: 10%)\n"
     ]
    },
    {
     "name": "stdout",
     "output_type": "stream",
     "text": [
      " Score: 0.910099983215332 in 13.22722601890564 seconds\n",
      "[Epoch 173] Score: 0.9072999954223632 in 10.982634782791138 seconds\n",
      "[Epoch 174] Score: 0.9102999567985536 in 11.001189708709717 seconds\n",
      "[Epoch 175]"
     ]
    },
    {
     "name": "stderr",
     "output_type": "stream",
     "text": [
      "distributed.utils_perf - WARNING - full garbage collections took 11% CPU time recently (threshold: 10%)\n"
     ]
    },
    {
     "name": "stdout",
     "output_type": "stream",
     "text": [
      " Score: 0.9085999727249146 in 13.117083311080933 seconds\n",
      "[Epoch 176] Score: 0.9095999598503112 in 10.969146728515625 seconds\n",
      "[Epoch 177] Score: 0.9098999500274658 in 10.991974115371704 seconds\n",
      "[Epoch 178]"
     ]
    },
    {
     "name": "stderr",
     "output_type": "stream",
     "text": [
      "distributed.utils_perf - WARNING - full garbage collections took 11% CPU time recently (threshold: 10%)\n"
     ]
    },
    {
     "name": "stdout",
     "output_type": "stream",
     "text": [
      " Score: 0.9089999794960022 in 13.065093755722046 seconds\n",
      "[Epoch 179] Score: 0.911899983882904 in 11.026676416397095 seconds\n",
      "[Epoch 180] Score: 0.9106999635696412 in 11.0737464427948 seconds\n",
      "[Epoch 181] Score: 0.9107999801635742 in 11.084790229797363 seconds\n",
      "[Epoch 182]"
     ]
    },
    {
     "name": "stderr",
     "output_type": "stream",
     "text": [
      "distributed.utils_perf - WARNING - full garbage collections took 11% CPU time recently (threshold: 10%)\n"
     ]
    },
    {
     "name": "stdout",
     "output_type": "stream",
     "text": [
      " Score: 0.911199986934662 in 13.100131273269653 seconds\n",
      "[Epoch 183] Score: 0.9102999567985536 in 11.06227159500122 seconds\n",
      "[Epoch 184] Score: 0.9080999493598938 in 11.083775043487549 seconds\n",
      "[Epoch 185] Score: 0.9108999967575072 in 10.981946229934692 seconds\n",
      "[Epoch 186]"
     ]
    },
    {
     "name": "stderr",
     "output_type": "stream",
     "text": [
      "distributed.utils_perf - WARNING - full garbage collections took 12% CPU time recently (threshold: 10%)\n"
     ]
    },
    {
     "name": "stdout",
     "output_type": "stream",
     "text": [
      " Score: 0.9093999862670898 in 13.233626127243042 seconds\n",
      "[Epoch 187] Score: 0.9106000065803528 in 10.971113681793213 seconds\n",
      "[Epoch 188] Score: 0.9110999703407288 in 10.991002798080444 seconds\n",
      "[Epoch 189]"
     ]
    },
    {
     "name": "stderr",
     "output_type": "stream",
     "text": [
      "distributed.utils_perf - WARNING - full garbage collections took 12% CPU time recently (threshold: 10%)\n"
     ]
    },
    {
     "name": "stdout",
     "output_type": "stream",
     "text": [
      " Score: 0.911300003528595 in 13.301803588867188 seconds\n",
      "[Epoch 190] Score: 0.9133999943733216 in 10.977530479431152 seconds\n",
      "[Epoch 191] Score: 0.9126999974250792 in 11.074278354644775 seconds\n",
      "[Epoch 192] Score: 0.9115999937057496 in 11.034584522247314 seconds\n",
      "[Epoch 193]"
     ]
    },
    {
     "name": "stderr",
     "output_type": "stream",
     "text": [
      "distributed.utils_perf - WARNING - full garbage collections took 11% CPU time recently (threshold: 10%)\n"
     ]
    },
    {
     "name": "stdout",
     "output_type": "stream",
     "text": [
      " Score: 0.9107999801635742 in 13.369499683380127 seconds\n",
      "[Epoch 194] Score: 0.9101999998092652 in 11.104374170303345 seconds\n",
      "[Epoch 195] Score: 0.9081999659538268 in 11.003286123275757 seconds\n",
      "[Epoch 196] Score: 0.9106999635696412 in 10.973462343215942 seconds\n",
      "[Epoch 197]"
     ]
    },
    {
     "name": "stderr",
     "output_type": "stream",
     "text": [
      "distributed.utils_perf - WARNING - full garbage collections took 12% CPU time recently (threshold: 10%)\n"
     ]
    },
    {
     "name": "stdout",
     "output_type": "stream",
     "text": [
      " Score: 0.9104999899864196 in 13.319203853607178 seconds\n",
      "[Epoch 198] Score: 0.9109999537467957 in 11.072362422943115 seconds\n",
      "[Epoch 199] Score: 0.9107999801635742 in 11.104134798049927 seconds\n",
      "Finished simulation in 2317.1177775859833 seconds\n",
      "Running simulation....\n",
      "\n",
      "\n",
      "[SETUP] Loaded 200 epochs of stats\n",
      "[SETUP] Pre-Processed in 19.227740049362183 seconds\n",
      "[Epoch 0] Score: 0.489799976348877 in 7.876420736312866 seconds\n",
      "[Epoch 1] Score: 0.6232999563217163 in 7.625124454498291 seconds\n",
      "[Epoch 2]"
     ]
    },
    {
     "name": "stderr",
     "output_type": "stream",
     "text": [
      "distributed.utils_perf - WARNING - full garbage collections took 12% CPU time recently (threshold: 10%)\n"
     ]
    },
    {
     "name": "stdout",
     "output_type": "stream",
     "text": [
      " Score: 0.6603999733924866 in 10.022790908813477 seconds\n",
      "[Epoch 3] Score: 0.7120999693870544 in 7.685020446777344 seconds\n",
      "[Epoch 4] Score: 0.7465999722480774 in 7.628223180770874 seconds\n",
      "[Epoch 5] Score: 0.7512999773025513 in 7.647035837173462 seconds\n",
      "[Epoch 6] Score: 0.7569999694824219 in 7.633426189422607 seconds\n",
      "[Epoch 7] Score: 0.7965999841690063 in 7.710443735122681 seconds\n",
      "[Epoch 8] Score: 0.7978999614715576 in 7.650815725326538 seconds\n",
      "[Epoch 9] Score: 0.8180999755859375 in 7.754627704620361 seconds\n",
      "[Epoch 10] Score: 0.8219999670982361 in 7.652550220489502 seconds\n",
      "[Epoch 11] Score: 0.8235999941825867 in 7.634932041168213 seconds\n",
      "[Epoch 12] Score: 0.8337999582290649 in 7.67616081237793 seconds\n",
      "[Epoch 13] Score: 0.8313999772071838 in 7.654984951019287 seconds\n",
      "[Epoch 14] Score: 0.8382999897003174 in 7.671922445297241 seconds\n",
      "[Epoch 15]"
     ]
    },
    {
     "name": "stderr",
     "output_type": "stream",
     "text": [
      "distributed.utils_perf - WARNING - full garbage collections took 12% CPU time recently (threshold: 10%)\n"
     ]
    },
    {
     "name": "stdout",
     "output_type": "stream",
     "text": [
      " Score: 0.8403999805450441 in 10.078736782073975 seconds\n",
      "[Epoch 16] Score: 0.8459999561309814 in 7.691287517547607 seconds\n",
      "[Epoch 17] Score: 0.8436999917030334 in 7.66588830947876 seconds\n",
      "[Epoch 18] Score: 0.8467999696731567 in 7.636392831802368 seconds\n",
      "[Epoch 19] Score: 0.8513999581336975 in 7.673330783843994 seconds\n",
      "[Epoch 20] Score: 0.8542999625205994 in 7.597484827041626 seconds\n",
      "[Epoch 21] Score: 0.8543999791145325 in 7.64453649520874 seconds\n",
      "[Epoch 22] Score: 0.8554999828338623 in 7.640585899353027 seconds\n",
      "[Epoch 23] Score: 0.863599956035614 in 7.658650159835815 seconds\n",
      "[Epoch 24] Score: 0.8666999936103821 in 7.614661693572998 seconds\n",
      "[Epoch 25] Score: 0.8707999587059021 in 7.603116750717163 seconds\n",
      "[Epoch 26] Score: 0.8693000078201294 in 7.630862474441528 seconds\n",
      "[Epoch 27] Score: 0.8611999750137329 in 7.663468837738037 seconds\n",
      "[Epoch 28]"
     ]
    },
    {
     "name": "stderr",
     "output_type": "stream",
     "text": [
      "distributed.utils_perf - WARNING - full garbage collections took 10% CPU time recently (threshold: 10%)\n"
     ]
    },
    {
     "name": "stdout",
     "output_type": "stream",
     "text": [
      " Score: 0.8693999648094177 in 10.130000829696655 seconds\n",
      "[Epoch 29] Score: 0.8661999702453613 in 7.703763723373413 seconds\n",
      "[Epoch 30] Score: 0.8639999628067017 in 7.717268228530884 seconds\n",
      "[Epoch 31] Score: 0.8593999743461609 in 7.67634391784668 seconds\n",
      "[Epoch 32] Score: 0.8725999593734741 in 7.6994616985321045 seconds\n",
      "[Epoch 33] Score: 0.8689999580383301 in 7.628260135650635 seconds\n",
      "[Epoch 34] Score: 0.8748999834060669 in 7.642248868942261 seconds\n",
      "[Epoch 35] Score: 0.8736000061035156 in 7.663224935531616 seconds\n",
      "[Epoch 36] Score: 0.8833000063896179 in 7.628540992736816 seconds\n",
      "[Epoch 37] Score: 0.8728999495506287 in 7.656515836715698 seconds\n",
      "[Epoch 38] Score: 0.8733999729156494 in 7.6348876953125 seconds\n",
      "[Epoch 39] Score: 0.8812999725341797 in 7.634474992752075 seconds\n",
      "[Epoch 40] Score: 0.8770999908447266 in 7.6316211223602295 seconds\n",
      "[Epoch 41] Score: 0.8791999816894531 in 7.625760555267334 seconds\n",
      "[Epoch 42]"
     ]
    },
    {
     "name": "stderr",
     "output_type": "stream",
     "text": [
      "distributed.utils_perf - WARNING - full garbage collections took 10% CPU time recently (threshold: 10%)\n"
     ]
    },
    {
     "name": "stdout",
     "output_type": "stream",
     "text": [
      " Score: 0.8736000061035156 in 10.237916707992554 seconds\n",
      "[Epoch 43] Score: 0.8817999958992004 in 7.649866819381714 seconds\n",
      "[Epoch 44] Score: 0.8812999725341797 in 7.647878408432007 seconds\n",
      "[Epoch 45] Score: 0.8811999559402466 in 7.631601572036743 seconds\n",
      "[Epoch 46] Score: 0.8750999569892883 in 7.655789852142334 seconds\n",
      "[Epoch 47] Score: 0.8782999515533447 in 7.6479387283325195 seconds\n",
      "[Epoch 48] Score: 0.8828999996185303 in 7.642312288284302 seconds\n",
      "[Epoch 49] Score: 0.8728999495506287 in 7.6317079067230225 seconds\n",
      "[Epoch 50] Score: 0.8775999546051025 in 7.625086307525635 seconds\n",
      "[Epoch 51] Score: 0.8805999755859375 in 7.6573286056518555 seconds\n",
      "[Epoch 52] Score: 0.8757999539375305 in 7.639531373977661 seconds\n",
      "[Epoch 53] Score: 0.8779000043869019 in 7.6245810985565186 seconds\n",
      "[Epoch 54] Score: 0.8847999572753906 in 7.667242765426636 seconds\n",
      "[Epoch 55]"
     ]
    },
    {
     "name": "stderr",
     "output_type": "stream",
     "text": [
      "distributed.utils_perf - WARNING - full garbage collections took 10% CPU time recently (threshold: 10%)\n"
     ]
    },
    {
     "name": "stdout",
     "output_type": "stream",
     "text": [
      " Score: 0.8851000070571899 in 10.249308109283447 seconds\n",
      "[Epoch 56] Score: 0.8819999694824219 in 7.6733479499816895 seconds\n",
      "[Epoch 57] Score: 0.882099986076355 in 7.661723375320435 seconds\n",
      "[Epoch 58] Score: 0.8784999847412109 in 7.652313232421875 seconds\n",
      "[Epoch 59] Score: 0.8831999897956848 in 7.660414934158325 seconds\n",
      "[Epoch 60] Score: 0.9025999903678894 in 7.6720263957977295 seconds\n",
      "[Epoch 61] Score: 0.9042999744415284 in 7.65195369720459 seconds\n",
      "[Epoch 62] Score: 0.9083999991416932 in 7.640193462371826 seconds\n",
      "[Epoch 63] Score: 0.9065999984741212 in 7.699592590332031 seconds\n",
      "[Epoch 64] Score: 0.9041999578475952 in 7.669189453125 seconds\n",
      "[Epoch 65] Score: 0.9070999622344972 in 7.629862308502197 seconds\n",
      "[Epoch 66] Score: 0.9077999591827391 in 7.670933246612549 seconds\n",
      "[Epoch 67] Score: 0.9038999676704408 in 7.683232307434082 seconds\n",
      "[Epoch 68] Score: 0.9078999757766724 in 7.678803205490112 seconds\n",
      "[Epoch 69]"
     ]
    },
    {
     "name": "stderr",
     "output_type": "stream",
     "text": [
      "distributed.utils_perf - WARNING - full garbage collections took 10% CPU time recently (threshold: 10%)\n"
     ]
    },
    {
     "name": "stdout",
     "output_type": "stream",
     "text": [
      " Score: 0.90829998254776 in 10.335681915283203 seconds\n",
      "[Epoch 70] Score: 0.9052000045776368 in 7.691906690597534 seconds\n",
      "[Epoch 71] Score: 0.9041000008583068 in 7.692845582962036 seconds\n",
      "[Epoch 72] Score: 0.9052000045776368 in 7.628974676132202 seconds\n",
      "[Epoch 73] Score: 0.9065999984741212 in 7.64960503578186 seconds\n",
      "[Epoch 74] Score: 0.9071999788284302 in 7.670116662979126 seconds\n",
      "[Epoch 75] Score: 0.903599977493286 in 7.673335790634155 seconds\n",
      "[Epoch 76] Score: 0.9041000008583068 in 7.698579788208008 seconds\n",
      "[Epoch 77] Score: 0.9049999713897704 in 7.676590919494629 seconds\n",
      "[Epoch 78] Score: 0.9048999547958374 in 7.669848918914795 seconds\n",
      "[Epoch 79] Score: 0.9080999493598938 in 7.6497344970703125 seconds\n",
      "[Epoch 80] Score: 0.9048999547958374 in 7.6478564739227295 seconds\n",
      "[Epoch 81] Score: 0.9057999849319458 in 7.631267309188843 seconds\n",
      "[Epoch 82] Score: 0.9047999978065492 in 7.629146337509155 seconds\n",
      "[Epoch 83]"
     ]
    },
    {
     "name": "stderr",
     "output_type": "stream",
     "text": [
      "distributed.utils_perf - WARNING - full garbage collections took 10% CPU time recently (threshold: 10%)\n"
     ]
    },
    {
     "name": "stdout",
     "output_type": "stream",
     "text": [
      " Score: 0.901799976825714 in 10.408070087432861 seconds\n",
      "[Epoch 84] Score: 0.9053999781608582 in 7.69789457321167 seconds\n",
      "[Epoch 85] Score: 0.9061999917030334 in 7.652296304702759 seconds\n",
      "[Epoch 86] Score: 0.9088000059127808 in 7.645434379577637 seconds\n",
      "[Epoch 87] Score: 0.9049999713897704 in 7.636725664138794 seconds\n",
      "[Epoch 88] Score: 0.9025999903678894 in 7.676135301589966 seconds\n",
      "[Epoch 89] Score: 0.9055999517440796 in 7.650813817977905 seconds\n",
      "[Epoch 90] Score: 0.9070000052452089 in 7.64389705657959 seconds\n",
      "[Epoch 91] Score: 0.9059999585151672 in 7.663691520690918 seconds\n",
      "[Epoch 92] Score: 0.9067999720573424 in 7.676034688949585 seconds\n",
      "[Epoch 93] Score: 0.9062999486923218 in 7.624976396560669 seconds\n",
      "[Epoch 94] Score: 0.905299961566925 in 7.6332173347473145 seconds\n",
      "[Epoch 95] Score: 0.9052000045776368 in 7.6653220653533936 seconds\n",
      "[Epoch 96] Score: 0.9052000045776368 in 7.6248719692230225 seconds\n",
      "[Epoch 97] Score: 0.9028999805450441 in 7.684947490692139 seconds\n",
      "[Epoch 98] Score: 0.9045999646186828 in 10.53618335723877 seconds\n",
      "[Epoch 99] Score: 0.9059000015258788 in 7.7248430252075195 seconds\n",
      "[Epoch 100] Score: 0.9034000039100648 in 7.664472818374634 seconds\n",
      "[Epoch 101] Score: 0.9061999917030334 in 7.786723852157593 seconds\n",
      "[Epoch 102] Score: 0.9066999554634094 in 7.61148738861084 seconds\n",
      "[Epoch 103] Score: 0.9053999781608582 in 7.680201053619385 seconds\n",
      "[Epoch 104] Score: 0.9042999744415284 in 7.656819105148315 seconds\n",
      "[Epoch 105] Score: 0.9081999659538268 in 7.66132116317749 seconds\n",
      "[Epoch 106] Score: 0.9077000021934508 in 7.703062295913696 seconds\n",
      "[Epoch 107] Score: 0.9039999842643738 in 7.65195631980896 seconds\n",
      "[Epoch 108] Score: 0.9030999541282654 in 7.630093097686768 seconds\n",
      "[Epoch 109] Score: 0.9081999659538268 in 7.656778812408447 seconds\n",
      "[Epoch 110] Score: 0.9027999639511108 in 7.649303197860718 seconds\n",
      "[Epoch 111] Score: 0.9048999547958374 in 7.621520757675171 seconds\n",
      "[Epoch 112] Score: 0.9065999984741212 in 7.676151990890503 seconds\n",
      "[Epoch 113] Score: 0.9044999480247498 in 10.527534484863281 seconds\n",
      "[Epoch 114] Score: 0.9016000032424928 in 7.679969787597656 seconds\n",
      "[Epoch 115] Score: 0.901099979877472 in 7.66433048248291 seconds\n",
      "[Epoch 116] Score: 0.904699981212616 in 7.668792963027954 seconds\n",
      "[Epoch 117] Score: 0.9018999934196472 in 7.632221937179565 seconds\n",
      "[Epoch 118] Score: 0.9063999652862548 in 7.653021335601807 seconds\n",
      "[Epoch 119] Score: 0.9024999737739564 in 7.687870264053345 seconds\n",
      "[Epoch 120] Score: 0.9045999646186828 in 7.644691467285156 seconds\n",
      "[Epoch 121] Score: 0.9104999899864196 in 7.654764652252197 seconds\n",
      "[Epoch 122] Score: 0.9047999978065492 in 7.673235893249512 seconds\n",
      "[Epoch 123] Score: 0.9095999598503112 in 7.637856960296631 seconds\n",
      "[Epoch 124] Score: 0.9077999591827391 in 7.7035300731658936 seconds\n",
      "[Epoch 125] Score: 0.9114999771118164 in 7.6414384841918945 seconds\n",
      "[Epoch 126] Score: 0.9092999696731568 in 7.62277626991272 seconds\n",
      "[Epoch 127] Score: 0.9088000059127808 in 7.649603605270386 seconds\n",
      "[Epoch 128] Score: 0.9088000059127808 in 10.609877824783325 seconds\n",
      "[Epoch 129] Score: 0.9088000059127808 in 7.714198350906372 seconds\n",
      "[Epoch 130] Score: 0.9072999954223632 in 7.659841060638428 seconds\n",
      "[Epoch 131] Score: 0.910099983215332 in 7.654875040054321 seconds\n",
      "[Epoch 132] Score: 0.9099999666213988 in 7.667994976043701 seconds\n",
      "[Epoch 133] Score: 0.9073999524116516 in 7.6964499950408936 seconds\n",
      "[Epoch 134] Score: 0.9126999974250792 in 7.668073415756226 seconds\n",
      "[Epoch 135] Score: 0.9103999733924866 in 7.6706202030181885 seconds\n",
      "[Epoch 136] Score: 0.9085999727249146 in 7.670315980911255 seconds\n",
      "[Epoch 137] Score: 0.9103999733924866 in 7.688645124435425 seconds\n",
      "[Epoch 138] Score: 0.9097999930381776 in 7.617229223251343 seconds\n",
      "[Epoch 139] Score: 0.9088999629020692 in 7.6598803997039795 seconds\n",
      "[Epoch 140] Score: 0.9089999794960022 in 7.666844606399536 seconds\n",
      "[Epoch 141] Score: 0.910099983215332 in 7.641648769378662 seconds\n",
      "[Epoch 142] Score: 0.9107999801635742 in 7.651930809020996 seconds\n",
      "[Epoch 143] Score: 0.9115999937057496 in 10.703521251678467 seconds\n",
      "[Epoch 144] Score: 0.9121999740600586 in 7.696712255477905 seconds\n",
      "[Epoch 145] Score: 0.9092999696731568 in 7.689736366271973 seconds\n",
      "[Epoch 146] Score: 0.9103999733924866 in 7.677869558334351 seconds\n",
      "[Epoch 147] Score: 0.910099983215332 in 7.72987174987793 seconds\n",
      "[Epoch 148] Score: 0.9122999906539916 in 7.677006959915161 seconds\n",
      "[Epoch 149] Score: 0.909500002861023 in 7.7635602951049805 seconds\n",
      "[Epoch 150] Score: 0.909500002861023 in 7.698836088180542 seconds\n",
      "[Epoch 151] Score: 0.9085999727249146 in 7.659044504165649 seconds\n",
      "[Epoch 152] Score: 0.9068999886512756 in 7.640658855438232 seconds\n",
      "[Epoch 153] Score: 0.9056999683380128 in 7.675325632095337 seconds\n",
      "[Epoch 154] Score: 0.9092999696731568 in 7.6470301151275635 seconds\n",
      "[Epoch 155] Score: 0.9095999598503112 in 7.621906042098999 seconds\n",
      "[Epoch 156] Score: 0.911199986934662 in 7.675751209259033 seconds\n",
      "[Epoch 157] Score: 0.9109999537467957 in 7.697429418563843 seconds\n",
      "[Epoch 158] Score: 0.9084999561309814 in 7.6350648403167725 seconds\n",
      "[Epoch 159] Score: 0.9098999500274658 in 10.752625465393066 seconds\n",
      "[Epoch 160] Score: 0.9091999530792236 in 7.703539848327637 seconds\n",
      "[Epoch 161] Score: 0.9091999530792236 in 7.6736531257629395 seconds\n",
      "[Epoch 162] Score: 0.9093999862670898 in 7.696686267852783 seconds\n",
      "[Epoch 163] Score: 0.90829998254776 in 7.6505186557769775 seconds\n",
      "[Epoch 164] Score: 0.9067999720573424 in 7.696855783462524 seconds\n",
      "[Epoch 165] Score: 0.9075999855995178 in 7.664612531661987 seconds\n",
      "[Epoch 166] Score: 0.9106999635696412 in 7.6527252197265625 seconds\n",
      "[Epoch 167] Score: 0.9101999998092652 in 7.70916223526001 seconds\n",
      "[Epoch 168] Score: 0.9084999561309814 in 7.687333106994629 seconds\n",
      "[Epoch 169] Score: 0.9075999855995178 in 7.6787331104278564 seconds\n",
      "[Epoch 170] Score: 0.9084999561309814 in 7.73997950553894 seconds\n",
      "[Epoch 171] Score: 0.9079999923706056 in 7.6391847133636475 seconds\n",
      "[Epoch 172] Score: 0.910099983215332 in 7.649458169937134 seconds\n",
      "[Epoch 173] Score: 0.9072999954223632 in 7.745906114578247 seconds\n",
      "[Epoch 174] Score: 0.9102999567985536 in 7.687889575958252 seconds\n",
      "[Epoch 175] Score: 0.9085999727249146 in 7.7108941078186035 seconds\n",
      "[Epoch 176] Score: 0.9095999598503112 in 10.794126033782959 seconds\n",
      "[Epoch 177] Score: 0.9098999500274658 in 7.6941375732421875 seconds\n",
      "[Epoch 178] Score: 0.9089999794960022 in 7.697233200073242 seconds\n",
      "[Epoch 179] Score: 0.911899983882904 in 7.6760029792785645 seconds\n",
      "[Epoch 180] Score: 0.9106999635696412 in 7.709699392318726 seconds\n",
      "[Epoch 181] Score: 0.9107999801635742 in 7.648271560668945 seconds\n",
      "[Epoch 182] Score: 0.911199986934662 in 7.729843616485596 seconds\n",
      "[Epoch 183] Score: 0.9102999567985536 in 7.628288269042969 seconds\n",
      "[Epoch 184] Score: 0.9080999493598938 in 7.6585001945495605 seconds\n",
      "[Epoch 185] Score: 0.9108999967575072 in 7.678614854812622 seconds\n",
      "[Epoch 186] Score: 0.9093999862670898 in 7.658556222915649 seconds\n",
      "[Epoch 187] Score: 0.9106000065803528 in 7.679429531097412 seconds\n",
      "[Epoch 188] Score: 0.9110999703407288 in 7.6678314208984375 seconds\n",
      "[Epoch 189] Score: 0.911300003528595 in 7.6506507396698 seconds\n",
      "[Epoch 190] Score: 0.9133999943733216 in 7.70135498046875 seconds\n",
      "[Epoch 191] Score: 0.9126999974250792 in 7.690406799316406 seconds\n",
      "[Epoch 192] Score: 0.9115999937057496 in 7.675309658050537 seconds\n",
      "[Epoch 193] Score: 0.9107999801635742 in 11.906151294708252 seconds\n",
      "[Epoch 194] Score: 0.9101999998092652 in 7.724159002304077 seconds\n",
      "[Epoch 195] Score: 0.9081999659538268 in 7.6989123821258545 seconds\n",
      "[Epoch 196] Score: 0.9106999635696412 in 7.671848297119141 seconds\n",
      "[Epoch 197] Score: 0.9104999899864196 in 7.726367235183716 seconds\n",
      "[Epoch 198] Score: 0.9109999537467957 in 7.669513463973999 seconds\n",
      "[Epoch 199] Score: 0.9107999801635742 in 7.715562105178833 seconds\n",
      "Finished simulation in 1593.490399837494 seconds\n",
      "Running simulation....\n",
      "\n",
      "\n",
      "[SETUP] Loaded 200 epochs of stats\n",
      "[SETUP] Pre-Processed in 19.572244882583618 seconds\n",
      "[Epoch 0] Score: 0.489799976348877 in 7.508134841918945 seconds\n",
      "[Epoch 1] Score: 0.6232999563217163 in 7.289761066436768 seconds\n",
      "[Epoch 2] Score: 0.6603999733924866 in 7.253270626068115 seconds\n",
      "[Epoch 3] Score: 0.7120999693870544 in 7.383297920227051 seconds\n",
      "[Epoch 4] Score: 0.7465999722480774 in 7.275839328765869 seconds\n",
      "[Epoch 5] Score: 0.7512999773025513 in 7.3267645835876465 seconds\n",
      "[Epoch 6] Score: 0.7569999694824219 in 7.304971694946289 seconds\n",
      "[Epoch 7] Score: 0.7965999841690063 in 7.237647533416748 seconds\n",
      "[Epoch 8] Score: 0.7978999614715576 in 7.299716949462891 seconds\n",
      "[Epoch 9] Score: 0.8180999755859375 in 7.246183633804321 seconds\n",
      "[Epoch 10] Score: 0.8219999670982361 in 7.290346145629883 seconds\n",
      "[Epoch 11] Score: 0.8235999941825867 in 7.312727212905884 seconds\n",
      "[Epoch 12] Score: 0.8337999582290649 in 7.311429738998413 seconds\n",
      "[Epoch 13] Score: 0.8313999772071838 in 7.362521171569824 seconds\n",
      "[Epoch 14] Score: 0.8382999897003174 in 7.304812669754028 seconds\n",
      "[Epoch 15] Score: 0.8403999805450441 in 7.336793422698975 seconds\n",
      "[Epoch 16] Score: 0.8459999561309814 in 7.413442373275757 seconds\n",
      "[Epoch 17] Score: 0.8436999917030334 in 7.345060348510742 seconds\n",
      "[Epoch 18] Score: 0.8467999696731567 in 7.2732038497924805 seconds\n",
      "[Epoch 19] Score: 0.8513999581336975 in 7.290466785430908 seconds\n",
      "[Epoch 20] Score: 0.8542999625205994 in 7.276946544647217 seconds\n",
      "[Epoch 21] Score: 0.8543999791145325 in 10.444094181060791 seconds\n",
      "[Epoch 22] Score: 0.8554999828338623 in 7.2890403270721436 seconds\n",
      "[Epoch 23] Score: 0.863599956035614 in 7.302253246307373 seconds\n",
      "[Epoch 24] Score: 0.8666999936103821 in 7.3039751052856445 seconds\n",
      "[Epoch 25] Score: 0.8707999587059021 in 7.307210206985474 seconds\n",
      "[Epoch 26] Score: 0.8693000078201294 in 7.302927255630493 seconds\n",
      "[Epoch 27] Score: 0.8611999750137329 in 7.328612565994263 seconds\n",
      "[Epoch 28] Score: 0.8693999648094177 in 7.248302936553955 seconds\n",
      "[Epoch 29] Score: 0.8661999702453613 in 7.322286367416382 seconds\n",
      "[Epoch 30] Score: 0.8639999628067017 in 7.3208465576171875 seconds\n",
      "[Epoch 31] Score: 0.8593999743461609 in 7.265110492706299 seconds\n",
      "[Epoch 32] Score: 0.8725999593734741 in 7.293912410736084 seconds\n",
      "[Epoch 33] Score: 0.8689999580383301 in 7.362313985824585 seconds\n",
      "[Epoch 34] Score: 0.8748999834060669 in 7.280536413192749 seconds\n",
      "[Epoch 35] Score: 0.8736000061035156 in 7.326215505599976 seconds\n",
      "[Epoch 36] Score: 0.8833000063896179 in 7.265976905822754 seconds\n",
      "[Epoch 37] Score: 0.8728999495506287 in 7.33759880065918 seconds\n",
      "[Epoch 38] Score: 0.8733999729156494 in 7.37763786315918 seconds\n",
      "[Epoch 39] Score: 0.8812999725341797 in 7.280148983001709 seconds\n",
      "[Epoch 40] Score: 0.8770999908447266 in 7.368296146392822 seconds\n",
      "[Epoch 41] Score: 0.8791999816894531 in 7.276653051376343 seconds\n",
      "[Epoch 42] Score: 0.8736000061035156 in 7.357186794281006 seconds\n",
      "[Epoch 43] Score: 0.8817999958992004 in 7.3188636302948 seconds\n",
      "[Epoch 44] Score: 0.8812999725341797 in 7.312506914138794 seconds\n",
      "[Epoch 45] Score: 0.8811999559402466 in 7.217644691467285 seconds\n",
      "[Epoch 46] Score: 0.8750999569892883 in 7.259034872055054 seconds\n",
      "[Epoch 47] Score: 0.8782999515533447 in 7.2500457763671875 seconds\n",
      "[Epoch 48] Score: 0.8828999996185303 in 7.334599256515503 seconds\n",
      "[Epoch 49] Score: 0.8728999495506287 in 7.251413583755493 seconds\n",
      "[Epoch 50] Score: 0.8775999546051025 in 7.290415287017822 seconds\n",
      "[Epoch 51] Score: 0.8805999755859375 in 7.3034138679504395 seconds\n",
      "[Epoch 52] Score: 0.8757999539375305 in 7.308128833770752 seconds\n",
      "[Epoch 53] Score: 0.8779000043869019 in 7.268091678619385 seconds\n",
      "[Epoch 54] Score: 0.8847999572753906 in 7.232152700424194 seconds\n",
      "[Epoch 55] Score: 0.8851000070571899 in 7.307000398635864 seconds\n",
      "[Epoch 56] Score: 0.8819999694824219 in 7.294211149215698 seconds\n",
      "[Epoch 57] Score: 0.882099986076355 in 7.330379247665405 seconds\n",
      "[Epoch 58] Score: 0.8784999847412109 in 7.291825294494629 seconds\n",
      "[Epoch 59] Score: 0.8831999897956848 in 7.2721288204193115 seconds\n",
      "[Epoch 60] Score: 0.9025999903678894 in 10.561297416687012 seconds\n",
      "[Epoch 61] Score: 0.9042999744415284 in 7.348471641540527 seconds\n",
      "[Epoch 62] Score: 0.9083999991416932 in 7.418112754821777 seconds\n",
      "[Epoch 63] Score: 0.9065999984741212 in 7.409871816635132 seconds\n",
      "[Epoch 64] Score: 0.9041999578475952 in 7.3147759437561035 seconds\n",
      "[Epoch 65] Score: 0.9070999622344972 in 7.2964911460876465 seconds\n",
      "[Epoch 66] Score: 0.9077999591827391 in 7.34214973449707 seconds\n",
      "[Epoch 67] Score: 0.9038999676704408 in 7.267829895019531 seconds\n",
      "[Epoch 68] Score: 0.9078999757766724 in 7.277928113937378 seconds\n",
      "[Epoch 69] Score: 0.90829998254776 in 7.27830958366394 seconds\n",
      "[Epoch 70] Score: 0.9052000045776368 in 7.366152286529541 seconds\n",
      "[Epoch 71] Score: 0.9041000008583068 in 7.343930959701538 seconds\n",
      "[Epoch 72] Score: 0.9052000045776368 in 7.310974359512329 seconds\n",
      "[Epoch 73] Score: 0.9065999984741212 in 7.30432391166687 seconds\n",
      "[Epoch 74] Score: 0.9071999788284302 in 7.289083003997803 seconds\n",
      "[Epoch 75] Score: 0.903599977493286 in 7.302333831787109 seconds\n",
      "[Epoch 76] Score: 0.9041000008583068 in 7.267988681793213 seconds\n",
      "[Epoch 77] Score: 0.9049999713897704 in 7.293999671936035 seconds\n",
      "[Epoch 78] Score: 0.9048999547958374 in 7.358264207839966 seconds\n",
      "[Epoch 79] Score: 0.9080999493598938 in 7.351517677307129 seconds\n",
      "[Epoch 80] Score: 0.9048999547958374 in 7.279554605484009 seconds\n",
      "[Epoch 81] Score: 0.9057999849319458 in 7.286351203918457 seconds\n",
      "[Epoch 82] Score: 0.9047999978065492 in 7.294703006744385 seconds\n",
      "[Epoch 83] Score: 0.901799976825714 in 7.315694093704224 seconds\n",
      "[Epoch 84] Score: 0.9053999781608582 in 7.391155242919922 seconds\n",
      "[Epoch 85] Score: 0.9061999917030334 in 7.281676530838013 seconds\n",
      "[Epoch 86] Score: 0.9088000059127808 in 7.244636058807373 seconds\n",
      "[Epoch 87] Score: 0.9049999713897704 in 7.328835725784302 seconds\n",
      "[Epoch 88] Score: 0.9025999903678894 in 7.28040623664856 seconds\n",
      "[Epoch 89] Score: 0.9055999517440796 in 7.298860549926758 seconds\n",
      "[Epoch 90] Score: 0.9070000052452089 in 7.323187828063965 seconds\n",
      "[Epoch 91] Score: 0.9059999585151672 in 7.287937641143799 seconds\n",
      "[Epoch 92] Score: 0.9067999720573424 in 7.282832860946655 seconds\n",
      "[Epoch 93] Score: 0.9062999486923218 in 7.297934532165527 seconds\n",
      "[Epoch 94] Score: 0.905299961566925 in 7.341190814971924 seconds\n",
      "[Epoch 95] Score: 0.9052000045776368 in 7.330999851226807 seconds\n",
      "[Epoch 96] Score: 0.9052000045776368 in 7.324782848358154 seconds\n",
      "[Epoch 97] Score: 0.9028999805450441 in 7.256130218505859 seconds\n",
      "[Epoch 98] Score: 0.9045999646186828 in 7.222687244415283 seconds\n",
      "[Epoch 99] Score: 0.9059000015258788 in 10.590969324111938 seconds\n",
      "[Epoch 100] Score: 0.9034000039100648 in 7.285027980804443 seconds\n",
      "[Epoch 101] Score: 0.9061999917030334 in 7.265639066696167 seconds\n",
      "[Epoch 102] Score: 0.9066999554634094 in 7.304408550262451 seconds\n",
      "[Epoch 103] Score: 0.9053999781608582 in 7.2654900550842285 seconds\n",
      "[Epoch 104] Score: 0.9042999744415284 in 7.289061784744263 seconds\n",
      "[Epoch 105] Score: 0.9081999659538268 in 7.300682306289673 seconds\n",
      "[Epoch 106] Score: 0.9077000021934508 in 7.269397020339966 seconds\n",
      "[Epoch 107] Score: 0.9039999842643738 in 7.331581354141235 seconds\n",
      "[Epoch 108] Score: 0.9030999541282654 in 7.368584394454956 seconds\n",
      "[Epoch 109] Score: 0.9081999659538268 in 7.311208963394165 seconds\n",
      "[Epoch 110] Score: 0.9027999639511108 in 7.40494441986084 seconds\n",
      "[Epoch 111] Score: 0.9048999547958374 in 7.351649761199951 seconds\n",
      "[Epoch 112] Score: 0.9065999984741212 in 7.280452489852905 seconds\n",
      "[Epoch 113] Score: 0.9044999480247498 in 7.263580560684204 seconds\n",
      "[Epoch 114] Score: 0.9016000032424928 in 7.322388648986816 seconds\n",
      "[Epoch 115] Score: 0.901099979877472 in 7.256333827972412 seconds\n",
      "[Epoch 116] Score: 0.904699981212616 in 7.2901740074157715 seconds\n",
      "[Epoch 117] Score: 0.9018999934196472 in 7.284947872161865 seconds\n",
      "[Epoch 118] Score: 0.9063999652862548 in 7.323232173919678 seconds\n",
      "[Epoch 119] Score: 0.9024999737739564 in 7.288183689117432 seconds\n",
      "[Epoch 120] Score: 0.9045999646186828 in 7.327542066574097 seconds\n",
      "[Epoch 121] Score: 0.9104999899864196 in 7.353839874267578 seconds\n",
      "[Epoch 122] Score: 0.9047999978065492 in 7.344729900360107 seconds\n",
      "[Epoch 123] Score: 0.9095999598503112 in 7.285154104232788 seconds\n",
      "[Epoch 124] Score: 0.9077999591827391 in 7.290372133255005 seconds\n",
      "[Epoch 125] Score: 0.9114999771118164 in 7.329967498779297 seconds\n",
      "[Epoch 126] Score: 0.9092999696731568 in 7.283487558364868 seconds\n",
      "[Epoch 127] Score: 0.9088000059127808 in 7.3191986083984375 seconds\n",
      "[Epoch 128] Score: 0.9088000059127808 in 7.268818140029907 seconds\n",
      "[Epoch 129] Score: 0.9088000059127808 in 7.335006952285767 seconds\n",
      "[Epoch 130] Score: 0.9072999954223632 in 7.330383777618408 seconds\n",
      "[Epoch 131] Score: 0.910099983215332 in 7.31356954574585 seconds\n",
      "[Epoch 132] Score: 0.9099999666213988 in 7.32030463218689 seconds\n",
      "[Epoch 133] Score: 0.9073999524116516 in 7.3018999099731445 seconds\n",
      "[Epoch 134] Score: 0.9126999974250792 in 7.3044023513793945 seconds\n",
      "[Epoch 135] Score: 0.9103999733924866 in 7.358764886856079 seconds\n",
      "[Epoch 136] Score: 0.9085999727249146 in 7.300726890563965 seconds\n",
      "[Epoch 137] Score: 0.9103999733924866 in 7.30763840675354 seconds\n",
      "[Epoch 138] Score: 0.9097999930381776 in 7.330030918121338 seconds\n",
      "[Epoch 139] Score: 0.9088999629020692 in 10.672310829162598 seconds\n",
      "[Epoch 140] Score: 0.9089999794960022 in 7.282196998596191 seconds\n",
      "[Epoch 141] Score: 0.910099983215332 in 7.317440986633301 seconds\n",
      "[Epoch 142] Score: 0.9107999801635742 in 7.3905930519104 seconds\n",
      "[Epoch 143] Score: 0.9115999937057496 in 7.345192909240723 seconds\n",
      "[Epoch 144] Score: 0.9121999740600586 in 7.295762777328491 seconds\n",
      "[Epoch 145] Score: 0.9092999696731568 in 7.265991687774658 seconds\n",
      "[Epoch 146] Score: 0.9103999733924866 in 7.288038730621338 seconds\n",
      "[Epoch 147] Score: 0.910099983215332 in 7.291730165481567 seconds\n",
      "[Epoch 148] Score: 0.9122999906539916 in 7.309204816818237 seconds\n",
      "[Epoch 149] Score: 0.909500002861023 in 7.314060926437378 seconds\n",
      "[Epoch 150] Score: 0.909500002861023 in 7.281793594360352 seconds\n",
      "[Epoch 151] Score: 0.9085999727249146 in 7.303741931915283 seconds\n",
      "[Epoch 152] Score: 0.9068999886512756 in 7.285389184951782 seconds\n",
      "[Epoch 153] Score: 0.9056999683380128 in 7.179722309112549 seconds\n",
      "[Epoch 154] Score: 0.9092999696731568 in 7.30817174911499 seconds\n",
      "[Epoch 155] Score: 0.9095999598503112 in 7.292371034622192 seconds\n",
      "[Epoch 156] Score: 0.911199986934662 in 7.264195203781128 seconds\n",
      "[Epoch 157] Score: 0.9109999537467957 in 7.290859699249268 seconds\n",
      "[Epoch 158] Score: 0.9084999561309814 in 7.2722554206848145 seconds\n",
      "[Epoch 159] Score: 0.9098999500274658 in 7.393875360488892 seconds\n",
      "[Epoch 160] Score: 0.9091999530792236 in 7.405842065811157 seconds\n",
      "[Epoch 161] Score: 0.9091999530792236 in 7.338035583496094 seconds\n",
      "[Epoch 162] Score: 0.9093999862670898 in 7.302909851074219 seconds\n",
      "[Epoch 163] Score: 0.90829998254776 in 7.2604899406433105 seconds\n",
      "[Epoch 164] Score: 0.9067999720573424 in 7.316308259963989 seconds\n",
      "[Epoch 165] Score: 0.9075999855995178 in 7.239794492721558 seconds\n",
      "[Epoch 166] Score: 0.9106999635696412 in 7.279662847518921 seconds\n",
      "[Epoch 167] Score: 0.9101999998092652 in 7.278030157089233 seconds\n",
      "[Epoch 168] Score: 0.9084999561309814 in 7.328429937362671 seconds\n",
      "[Epoch 169] Score: 0.9075999855995178 in 7.299264669418335 seconds\n",
      "[Epoch 170] Score: 0.9084999561309814 in 7.339741945266724 seconds\n",
      "[Epoch 171] Score: 0.9079999923706056 in 7.353963851928711 seconds\n",
      "[Epoch 172] Score: 0.910099983215332 in 7.285680532455444 seconds\n",
      "[Epoch 173] Score: 0.9072999954223632 in 7.2065393924713135 seconds\n",
      "[Epoch 174] Score: 0.9102999567985536 in 7.2946813106536865 seconds\n",
      "[Epoch 175] Score: 0.9085999727249146 in 7.243032217025757 seconds\n",
      "[Epoch 176] Score: 0.9095999598503112 in 7.171322345733643 seconds\n",
      "[Epoch 177] Score: 0.9098999500274658 in 7.26391077041626 seconds\n",
      "[Epoch 178] Score: 0.9089999794960022 in 10.65673542022705 seconds\n",
      "[Epoch 179] Score: 0.911899983882904 in 7.191537141799927 seconds\n",
      "[Epoch 180] Score: 0.9106999635696412 in 7.275080919265747 seconds\n",
      "[Epoch 181] Score: 0.9107999801635742 in 7.373028755187988 seconds\n",
      "[Epoch 182] Score: 0.911199986934662 in 7.2656495571136475 seconds\n",
      "[Epoch 183] Score: 0.9102999567985536 in 7.340496301651001 seconds\n",
      "[Epoch 184] Score: 0.9080999493598938 in 7.381973028182983 seconds\n",
      "[Epoch 185] Score: 0.9108999967575072 in 7.381089687347412 seconds\n",
      "[Epoch 186] Score: 0.9093999862670898 in 7.302889347076416 seconds\n",
      "[Epoch 187] Score: 0.9106000065803528 in 7.3619701862335205 seconds\n",
      "[Epoch 188] Score: 0.9110999703407288 in 7.203373193740845 seconds\n",
      "[Epoch 189] Score: 0.911300003528595 in 7.268331289291382 seconds\n",
      "[Epoch 190] Score: 0.9133999943733216 in 7.281329870223999 seconds\n",
      "[Epoch 191] Score: 0.9126999974250792 in 7.316367149353027 seconds\n",
      "[Epoch 192] Score: 0.9115999937057496 in 7.294511795043945 seconds\n",
      "[Epoch 193] Score: 0.9107999801635742 in 7.2995710372924805 seconds\n",
      "[Epoch 194] Score: 0.9101999998092652 in 7.319018363952637 seconds\n",
      "[Epoch 195] Score: 0.9081999659538268 in 7.296939849853516 seconds\n",
      "[Epoch 196] Score: 0.9106999635696412 in 7.273094415664673 seconds\n",
      "[Epoch 197] Score: 0.9104999899864196 in 7.350687742233276 seconds\n",
      "[Epoch 198] Score: 0.9109999537467957 in 7.286771059036255 seconds\n",
      "[Epoch 199] Score: 0.9107999801635742 in 7.341273546218872 seconds\n",
      "Finished simulation in 1497.69757604599 seconds\n",
      "Running simulation....\n",
      "\n",
      "\n",
      "[SETUP] Loaded 200 epochs of stats\n",
      "[SETUP] Pre-Processed in 19.381084442138672 seconds\n",
      "[Epoch 0] Score: 0.489799976348877 in 10.240235090255737 seconds\n",
      "[Epoch 1] Score: 0.6232999563217163 in 10.105603456497192 seconds\n",
      "[Epoch 2] Score: 0.6603999733924866 in 10.08703875541687 seconds\n",
      "[Epoch 3] Score: 0.7120999693870544 in 10.198475360870361 seconds\n",
      "[Epoch 4] Score: 0.7465999722480774 in 10.111651182174683 seconds\n",
      "[Epoch 5] Score: 0.7512999773025513 in 10.052803039550781 seconds\n",
      "[Epoch 6] Score: 0.7569999694824219 in 10.126414060592651 seconds\n",
      "[Epoch 7] Score: 0.7965999841690063 in 10.039210319519043 seconds\n",
      "[Epoch 8] Score: 0.7978999614715576 in 10.08413028717041 seconds\n",
      "[Epoch 9] Score: 0.8180999755859375 in 10.058246850967407 seconds\n",
      "[Epoch 10] Score: 0.8219999670982361 in 10.072930097579956 seconds\n",
      "[Epoch 11] Score: 0.8235999941825867 in 10.130208015441895 seconds\n",
      "[Epoch 12] Score: 0.8337999582290649 in 10.21911096572876 seconds\n",
      "[Epoch 13] Score: 0.8313999772071838 in 10.088701009750366 seconds\n",
      "[Epoch 14] Score: 0.8382999897003174 in 10.118509769439697 seconds\n",
      "[Epoch 15] Score: 0.8403999805450441 in 10.071691036224365 seconds\n",
      "[Epoch 16] Score: 0.8459999561309814 in 10.05416488647461 seconds\n",
      "[Epoch 17] Score: 0.8436999917030334 in 10.065075397491455 seconds\n",
      "[Epoch 18] Score: 0.8467999696731567 in 10.068891048431396 seconds\n",
      "[Epoch 19] Score: 0.8513999581336975 in 10.225908279418945 seconds\n",
      "[Epoch 20] Score: 0.8542999625205994 in 10.202967405319214 seconds\n",
      "[Epoch 21] Score: 0.8543999791145325 in 10.12778925895691 seconds\n",
      "[Epoch 22] Score: 0.8554999828338623 in 10.055764198303223 seconds\n",
      "[Epoch 23] Score: 0.863599956035614 in 10.208356380462646 seconds\n",
      "[Epoch 24] Score: 0.8666999936103821 in 10.041733026504517 seconds\n",
      "[Epoch 25] Score: 0.8707999587059021 in 10.03651213645935 seconds\n",
      "[Epoch 26] Score: 0.8693000078201294 in 10.112699747085571 seconds\n",
      "[Epoch 27] Score: 0.8611999750137329 in 10.016615390777588 seconds\n",
      "[Epoch 28] Score: 0.8693999648094177 in 14.05234146118164 seconds\n",
      "[Epoch 29] Score: 0.8661999702453613 in 10.01580548286438 seconds\n",
      "[Epoch 30] Score: 0.8639999628067017 in 10.048063039779663 seconds\n",
      "[Epoch 31] Score: 0.8593999743461609 in 10.231871604919434 seconds\n",
      "[Epoch 32] Score: 0.8725999593734741 in 10.059845447540283 seconds\n",
      "[Epoch 33] Score: 0.8689999580383301 in 10.101679801940918 seconds\n",
      "[Epoch 34] Score: 0.8748999834060669 in 10.02366852760315 seconds\n",
      "[Epoch 35] Score: 0.8736000061035156 in 10.087923288345337 seconds\n",
      "[Epoch 36] Score: 0.8833000063896179 in 10.043394088745117 seconds\n",
      "[Epoch 37] Score: 0.8728999495506287 in 10.081870079040527 seconds\n",
      "[Epoch 38] Score: 0.8733999729156494 in 10.085544109344482 seconds\n",
      "[Epoch 39] Score: 0.8812999725341797 in 10.162353992462158 seconds\n",
      "[Epoch 40] Score: 0.8770999908447266 in 10.100894927978516 seconds\n",
      "[Epoch 41] Score: 0.8791999816894531 in 10.22501277923584 seconds\n",
      "[Epoch 42] Score: 0.8736000061035156 in 10.120667695999146 seconds\n",
      "[Epoch 43] Score: 0.8817999958992004 in 10.069155931472778 seconds\n",
      "[Epoch 44] Score: 0.8812999725341797 in 10.100991249084473 seconds\n",
      "[Epoch 45] Score: 0.8811999559402466 in 10.143787622451782 seconds\n",
      "[Epoch 46] Score: 0.8750999569892883 in 10.160146713256836 seconds\n",
      "[Epoch 47] Score: 0.8782999515533447 in 10.066255807876587 seconds\n",
      "[Epoch 48] Score: 0.8828999996185303 in 10.124017238616943 seconds\n",
      "[Epoch 49] Score: 0.8728999495506287 in 10.108192443847656 seconds\n",
      "[Epoch 50] Score: 0.8775999546051025 in 10.035398006439209 seconds\n",
      "[Epoch 51] Score: 0.8805999755859375 in 10.191105365753174 seconds\n",
      "[Epoch 52] Score: 0.8757999539375305 in 10.04918122291565 seconds\n",
      "[Epoch 53] Score: 0.8779000043869019 in 10.065909147262573 seconds\n",
      "[Epoch 54] Score: 0.8847999572753906 in 10.144476890563965 seconds\n",
      "[Epoch 55] Score: 0.8851000070571899 in 10.079803228378296 seconds\n",
      "[Epoch 56] Score: 0.8819999694824219 in 10.150944948196411 seconds\n",
      "[Epoch 57] Score: 0.882099986076355 in 10.110045671463013 seconds\n",
      "[Epoch 58] Score: 0.8784999847412109 in 10.233191013336182 seconds\n",
      "[Epoch 59] Score: 0.8831999897956848 in 10.123846292495728 seconds\n",
      "[Epoch 60] Score: 0.9025999903678894 in 10.033249855041504 seconds\n",
      "[Epoch 61] Score: 0.9042999744415284 in 10.027156591415405 seconds\n",
      "[Epoch 62] Score: 0.9083999991416932 in 10.10165023803711 seconds\n",
      "[Epoch 63] Score: 0.9065999984741212 in 10.060547351837158 seconds\n",
      "[Epoch 64] Score: 0.9041999578475952 in 10.05966329574585 seconds\n",
      "[Epoch 65] Score: 0.9070999622344972 in 10.079056978225708 seconds\n",
      "[Epoch 66] Score: 0.9077999591827391 in 10.06802773475647 seconds\n",
      "[Epoch 67] Score: 0.9038999676704408 in 10.081884622573853 seconds\n",
      "[Epoch 68] Score: 0.9078999757766724 in 10.05078411102295 seconds\n",
      "[Epoch 69] Score: 0.90829998254776 in 10.067414999008179 seconds\n",
      "[Epoch 70] Score: 0.9052000045776368 in 10.01222825050354 seconds\n",
      "[Epoch 71] Score: 0.9041000008583068 in 10.10125994682312 seconds\n",
      "[Epoch 72] Score: 0.9052000045776368 in 10.15535306930542 seconds\n",
      "[Epoch 73] Score: 0.9065999984741212 in 10.149669170379639 seconds\n",
      "[Epoch 74] Score: 0.9071999788284302 in 10.100436210632324 seconds\n",
      "[Epoch 75] Score: 0.903599977493286 in 10.103269577026367 seconds\n",
      "[Epoch 76] Score: 0.9041000008583068 in 10.107151746749878 seconds\n",
      "[Epoch 77] Score: 0.9049999713897704 in 10.07668137550354 seconds\n",
      "[Epoch 78] Score: 0.9048999547958374 in 10.080475807189941 seconds\n",
      "[Epoch 79] Score: 0.9080999493598938 in 10.024343013763428 seconds\n",
      "[Epoch 80] Score: 0.9048999547958374 in 10.12644076347351 seconds\n",
      "[Epoch 81] Score: 0.9057999849319458 in 10.140028238296509 seconds\n",
      "[Epoch 82] Score: 0.9047999978065492 in 10.067595958709717 seconds\n",
      "[Epoch 83] Score: 0.901799976825714 in 10.027222633361816 seconds\n",
      "[Epoch 84] Score: 0.9053999781608582 in 10.050474166870117 seconds\n",
      "[Epoch 85] Score: 0.9061999917030334 in 10.060734510421753 seconds\n",
      "[Epoch 86] Score: 0.9088000059127808 in 10.190781593322754 seconds\n",
      "[Epoch 87] Score: 0.9049999713897704 in 10.076816082000732 seconds\n",
      "[Epoch 88] Score: 0.9025999903678894 in 10.09119439125061 seconds\n",
      "[Epoch 89] Score: 0.9055999517440796 in 10.111430883407593 seconds\n",
      "[Epoch 90] Score: 0.9070000052452089 in 10.205190896987915 seconds\n",
      "[Epoch 91] Score: 0.9059999585151672 in 10.183365106582642 seconds\n",
      "[Epoch 92] Score: 0.9067999720573424 in 10.20777440071106 seconds\n",
      "[Epoch 93] Score: 0.9062999486923218 in 10.105835914611816 seconds\n",
      "[Epoch 94] Score: 0.905299961566925 in 10.09981894493103 seconds\n",
      "[Epoch 95] Score: 0.9052000045776368 in 13.390836715698242 seconds\n",
      "[Epoch 96] Score: 0.9052000045776368 in 10.084782600402832 seconds\n",
      "[Epoch 97] Score: 0.9028999805450441 in 10.054254293441772 seconds\n",
      "[Epoch 98] Score: 0.9045999646186828 in 10.046351909637451 seconds\n",
      "[Epoch 99] Score: 0.9059000015258788 in 10.074732780456543 seconds\n",
      "[Epoch 100] Score: 0.9034000039100648 in 10.114290952682495 seconds\n",
      "[Epoch 101] Score: 0.9061999917030334 in 10.04506254196167 seconds\n",
      "[Epoch 102] Score: 0.9066999554634094 in 10.128434658050537 seconds\n",
      "[Epoch 103] Score: 0.9053999781608582 in 10.05438232421875 seconds\n",
      "[Epoch 104] Score: 0.9042999744415284 in 10.167517185211182 seconds\n",
      "[Epoch 105] Score: 0.9081999659538268 in 10.167872428894043 seconds\n",
      "[Epoch 106] Score: 0.9077000021934508 in 10.135331392288208 seconds\n",
      "[Epoch 107] Score: 0.9039999842643738 in 10.095558643341064 seconds\n",
      "[Epoch 108] Score: 0.9030999541282654 in 10.095243453979492 seconds\n",
      "[Epoch 109] Score: 0.9081999659538268 in 10.072550773620605 seconds\n",
      "[Epoch 110] Score: 0.9027999639511108 in 10.183019161224365 seconds\n",
      "[Epoch 111] Score: 0.9048999547958374 in 10.034201622009277 seconds\n",
      "[Epoch 112] Score: 0.9065999984741212 in 10.031353950500488 seconds\n",
      "[Epoch 113] Score: 0.9044999480247498 in 10.135465383529663 seconds\n",
      "[Epoch 114] Score: 0.9016000032424928 in 10.028369903564453 seconds\n",
      "[Epoch 115] Score: 0.901099979877472 in 10.17969799041748 seconds\n",
      "[Epoch 116] Score: 0.904699981212616 in 10.058243036270142 seconds\n",
      "[Epoch 117] Score: 0.9018999934196472 in 10.044514656066895 seconds\n",
      "[Epoch 118] Score: 0.9063999652862548 in 10.20406723022461 seconds\n",
      "[Epoch 119] Score: 0.9024999737739564 in 10.198755502700806 seconds\n",
      "[Epoch 120] Score: 0.9045999646186828 in 10.046106338500977 seconds\n",
      "[Epoch 121] Score: 0.9104999899864196 in 10.043036699295044 seconds\n",
      "[Epoch 122] Score: 0.9047999978065492 in 10.018615484237671 seconds\n",
      "[Epoch 123] Score: 0.9095999598503112 in 10.085286617279053 seconds\n",
      "[Epoch 124] Score: 0.9077999591827391 in 10.188847541809082 seconds\n",
      "[Epoch 125] Score: 0.9114999771118164 in 10.081246614456177 seconds\n",
      "[Epoch 126] Score: 0.9092999696731568 in 10.106398820877075 seconds\n",
      "[Epoch 127] Score: 0.9088000059127808 in 10.086240768432617 seconds\n",
      "[Epoch 128] Score: 0.9088000059127808 in 10.114873886108398 seconds\n",
      "[Epoch 129] Score: 0.9088000059127808 in 10.042506694793701 seconds\n",
      "[Epoch 130] Score: 0.9072999954223632 in 10.137055397033691 seconds\n",
      "[Epoch 131] Score: 0.910099983215332 in 10.12653923034668 seconds\n",
      "[Epoch 132] Score: 0.9099999666213988 in 10.195006370544434 seconds\n",
      "[Epoch 133] Score: 0.9073999524116516 in 10.101439952850342 seconds\n",
      "[Epoch 134] Score: 0.9126999974250792 in 10.195598125457764 seconds\n",
      "[Epoch 135] Score: 0.9103999733924866 in 10.087186574935913 seconds\n",
      "[Epoch 136] Score: 0.9085999727249146 in 10.107499122619629 seconds\n",
      "[Epoch 137] Score: 0.9103999733924866 in 10.069101095199585 seconds\n",
      "[Epoch 138] Score: 0.9097999930381776 in 10.107540845870972 seconds\n",
      "[Epoch 139] Score: 0.9088999629020692 in 10.2144615650177 seconds\n",
      "[Epoch 140] Score: 0.9089999794960022 in 10.197925329208374 seconds\n",
      "[Epoch 141] Score: 0.910099983215332 in 10.104411363601685 seconds\n",
      "[Epoch 142] Score: 0.9107999801635742 in 10.085522651672363 seconds\n",
      "[Epoch 143] Score: 0.9115999937057496 in 10.054035663604736 seconds\n",
      "[Epoch 144] Score: 0.9121999740600586 in 10.059662580490112 seconds\n",
      "[Epoch 145] Score: 0.9092999696731568 in 10.127908945083618 seconds\n",
      "[Epoch 146] Score: 0.9103999733924866 in 10.121865034103394 seconds\n",
      "[Epoch 147] Score: 0.910099983215332 in 10.115155220031738 seconds\n",
      "[Epoch 148] Score: 0.9122999906539916 in 10.104318618774414 seconds\n",
      "[Epoch 149] Score: 0.909500002861023 in 10.08881425857544 seconds\n",
      "[Epoch 150] Score: 0.909500002861023 in 10.055081844329834 seconds\n",
      "[Epoch 151] Score: 0.9085999727249146 in 10.140251159667969 seconds\n",
      "[Epoch 152] Score: 0.9068999886512756 in 10.099358797073364 seconds\n",
      "[Epoch 153] Score: 0.9056999683380128 in 10.179014921188354 seconds\n",
      "[Epoch 154] Score: 0.9092999696731568 in 10.14887261390686 seconds\n",
      "[Epoch 155] Score: 0.9095999598503112 in 10.167690992355347 seconds\n",
      "[Epoch 156] Score: 0.911199986934662 in 10.19744086265564 seconds\n",
      "[Epoch 157] Score: 0.9109999537467957 in 10.100368738174438 seconds\n",
      "[Epoch 158] Score: 0.9084999561309814 in 10.026911497116089 seconds\n",
      "[Epoch 159] Score: 0.9098999500274658 in 10.165876150131226 seconds\n",
      "[Epoch 160] Score: 0.9091999530792236 in 10.137758493423462 seconds\n",
      "[Epoch 161] Score: 0.9091999530792236 in 13.36330509185791 seconds\n",
      "[Epoch 162] Score: 0.9093999862670898 in 10.0896155834198 seconds\n",
      "[Epoch 163] Score: 0.90829998254776 in 10.185611963272095 seconds\n",
      "[Epoch 164] Score: 0.9067999720573424 in 10.020883798599243 seconds\n",
      "[Epoch 165] Score: 0.9075999855995178 in 10.055437326431274 seconds\n",
      "[Epoch 166] Score: 0.9106999635696412 in 10.217626571655273 seconds\n",
      "[Epoch 167] Score: 0.9101999998092652 in 10.19941782951355 seconds\n",
      "[Epoch 168] Score: 0.9084999561309814 in 10.091495513916016 seconds\n",
      "[Epoch 169] Score: 0.9075999855995178 in 10.116210699081421 seconds\n",
      "[Epoch 170] Score: 0.9084999561309814 in 10.100890636444092 seconds\n",
      "[Epoch 171] Score: 0.9079999923706056 in 10.198894739151001 seconds\n",
      "[Epoch 172] Score: 0.910099983215332 in 10.095370531082153 seconds\n",
      "[Epoch 173] Score: 0.9072999954223632 in 10.008795738220215 seconds\n",
      "[Epoch 174] Score: 0.9102999567985536 in 10.092509508132935 seconds\n",
      "[Epoch 175] Score: 0.9085999727249146 in 10.089348316192627 seconds\n",
      "[Epoch 176] Score: 0.9095999598503112 in 10.083958148956299 seconds\n",
      "[Epoch 177] Score: 0.9098999500274658 in 10.114519834518433 seconds\n",
      "[Epoch 178] Score: 0.9089999794960022 in 10.045929431915283 seconds\n",
      "[Epoch 179] Score: 0.911899983882904 in 10.130091190338135 seconds\n",
      "[Epoch 180] Score: 0.9106999635696412 in 10.07515001296997 seconds\n",
      "[Epoch 181] Score: 0.9107999801635742 in 10.145969152450562 seconds\n",
      "[Epoch 182] Score: 0.911199986934662 in 10.097028493881226 seconds\n",
      "[Epoch 183] Score: 0.9102999567985536 in 10.03969955444336 seconds\n",
      "[Epoch 184] Score: 0.9080999493598938 in 10.057207107543945 seconds\n",
      "[Epoch 185] Score: 0.9108999967575072 in 10.08864712715149 seconds\n",
      "[Epoch 186] Score: 0.9093999862670898 in 10.196374654769897 seconds\n",
      "[Epoch 187] Score: 0.9106000065803528 in 10.048450231552124 seconds\n",
      "[Epoch 188] Score: 0.9110999703407288 in 10.156431198120117 seconds\n",
      "[Epoch 189] Score: 0.911300003528595 in 10.181448936462402 seconds\n",
      "[Epoch 190] Score: 0.9133999943733216 in 10.105072498321533 seconds\n",
      "[Epoch 191] Score: 0.9126999974250792 in 10.08269715309143 seconds\n",
      "[Epoch 192] Score: 0.9115999937057496 in 10.090858697891235 seconds\n",
      "[Epoch 193] Score: 0.9107999801635742 in 10.120307922363281 seconds\n",
      "[Epoch 194] Score: 0.9101999998092652 in 10.08599305152893 seconds\n",
      "[Epoch 195] Score: 0.9081999659538268 in 10.194705247879028 seconds\n",
      "[Epoch 196] Score: 0.9106999635696412 in 10.05298638343811 seconds\n",
      "[Epoch 197] Score: 0.9104999899864196 in 10.246079206466675 seconds\n",
      "[Epoch 198] Score: 0.9109999537467957 in 10.087867736816406 seconds\n",
      "[Epoch 199] Score: 0.9107999801635742 in 10.1904878616333 seconds\n",
      "Finished simulation in 2051.7481005191803 seconds\n",
      "Running simulation....\n",
      "\n",
      "\n",
      "[SETUP] Loaded 200 epochs of stats\n",
      "[SETUP] Pre-Processed in 19.284889221191406 seconds\n",
      "[Epoch 0] Score: 0.489799976348877 in 17.282934188842773 seconds\n",
      "[Epoch 1] Score: 0.6232999563217163 in 17.065367221832275 seconds\n",
      "[Epoch 2] Score: 0.6603999733924866 in 17.052369117736816 seconds\n",
      "[Epoch 3] Score: 0.7120999693870544 in 17.03908920288086 seconds\n",
      "[Epoch 4] Score: 0.7465999722480774 in 17.031152486801147 seconds\n",
      "[Epoch 5] Score: 0.7512999773025513 in 17.04704737663269 seconds\n",
      "[Epoch 6] Score: 0.7569999694824219 in 17.054941654205322 seconds\n",
      "[Epoch 7] Score: 0.7965999841690063 in 17.084031105041504 seconds\n",
      "[Epoch 8] Score: 0.7978999614715576 in 17.065427780151367 seconds\n",
      "[Epoch 9] Score: 0.8180999755859375 in 17.060115575790405 seconds\n",
      "[Epoch 10] Score: 0.8219999670982361 in 17.07794427871704 seconds\n",
      "[Epoch 11] Score: 0.8235999941825867 in 17.024991989135742 seconds\n",
      "[Epoch 12] Score: 0.8337999582290649 in 17.03522753715515 seconds\n",
      "[Epoch 13] Score: 0.8313999772071838 in 17.137698888778687 seconds\n",
      "[Epoch 14] Score: 0.8382999897003174 in 17.05404496192932 seconds\n",
      "[Epoch 15] Score: 0.8403999805450441 in 17.06872820854187 seconds\n",
      "[Epoch 16] Score: 0.8459999561309814 in 17.0686457157135 seconds\n",
      "[Epoch 17] Score: 0.8436999917030334 in 17.02823805809021 seconds\n",
      "[Epoch 18] Score: 0.8467999696731567 in 17.076338529586792 seconds\n",
      "[Epoch 19] Score: 0.8513999581336975 in 17.033499479293823 seconds\n",
      "[Epoch 20] Score: 0.8542999625205994 in 17.05828094482422 seconds\n",
      "[Epoch 21] Score: 0.8543999791145325 in 17.021764516830444 seconds\n",
      "[Epoch 22] Score: 0.8554999828338623 in 17.049777030944824 seconds\n",
      "[Epoch 23] Score: 0.863599956035614 in 17.025075435638428 seconds\n",
      "[Epoch 24] Score: 0.8666999936103821 in 17.040539503097534 seconds\n",
      "[Epoch 25] Score: 0.8707999587059021 in 17.049785614013672 seconds\n",
      "[Epoch 26] Score: 0.8693000078201294 in 17.048585176467896 seconds\n",
      "[Epoch 27] Score: 0.8611999750137329 in 17.0388605594635 seconds\n",
      "[Epoch 28] Score: 0.8693999648094177 in 17.06307578086853 seconds\n",
      "[Epoch 29] Score: 0.8661999702453613 in 17.09268617630005 seconds\n",
      "[Epoch 30] Score: 0.8639999628067017 in 17.049949884414673 seconds\n",
      "[Epoch 31] Score: 0.8593999743461609 in 17.063880681991577 seconds\n",
      "[Epoch 32] Score: 0.8725999593734741 in 17.05902647972107 seconds\n",
      "[Epoch 33] Score: 0.8689999580383301 in 17.037172555923462 seconds\n",
      "[Epoch 34] Score: 0.8748999834060669 in 20.158775806427002 seconds\n",
      "[Epoch 35] Score: 0.8736000061035156 in 17.0317280292511 seconds\n",
      "[Epoch 36] Score: 0.8833000063896179 in 17.04942750930786 seconds\n",
      "[Epoch 37] Score: 0.8728999495506287 in 17.026713609695435 seconds\n",
      "[Epoch 38] Score: 0.8733999729156494 in 17.01851987838745 seconds\n",
      "[Epoch 39] Score: 0.8812999725341797 in 17.036334991455078 seconds\n",
      "[Epoch 40] Score: 0.8770999908447266 in 17.062527894973755 seconds\n",
      "[Epoch 41] Score: 0.8791999816894531 in 17.04403519630432 seconds\n",
      "[Epoch 42] Score: 0.8736000061035156 in 17.03405737876892 seconds\n",
      "[Epoch 43] Score: 0.8817999958992004 in 17.03614068031311 seconds\n",
      "[Epoch 44] Score: 0.8812999725341797 in 17.048288106918335 seconds\n",
      "[Epoch 45] Score: 0.8811999559402466 in 17.072808742523193 seconds\n",
      "[Epoch 46] Score: 0.8750999569892883 in 17.04760217666626 seconds\n",
      "[Epoch 47] Score: 0.8782999515533447 in 17.06969928741455 seconds\n",
      "[Epoch 48] Score: 0.8828999996185303 in 17.034489154815674 seconds\n",
      "[Epoch 49] Score: 0.8728999495506287 in 17.05588698387146 seconds\n",
      "[Epoch 50] Score: 0.8775999546051025 in 17.06311345100403 seconds\n",
      "[Epoch 51] Score: 0.8805999755859375 in 17.05507779121399 seconds\n",
      "[Epoch 52] Score: 0.8757999539375305 in 17.14843726158142 seconds\n",
      "[Epoch 53] Score: 0.8779000043869019 in 17.071695804595947 seconds\n",
      "[Epoch 54] Score: 0.8847999572753906 in 17.03946089744568 seconds\n",
      "[Epoch 55] Score: 0.8851000070571899 in 17.03993272781372 seconds\n",
      "[Epoch 56] Score: 0.8819999694824219 in 17.048271417617798 seconds\n",
      "[Epoch 57] Score: 0.882099986076355 in 17.02612018585205 seconds\n",
      "[Epoch 58] Score: 0.8784999847412109 in 17.105103492736816 seconds\n",
      "[Epoch 59] Score: 0.8831999897956848 in 17.04115319252014 seconds\n",
      "[Epoch 60] Score: 0.9025999903678894 in 17.05359148979187 seconds\n",
      "[Epoch 61] Score: 0.9042999744415284 in 17.084151029586792 seconds\n",
      "[Epoch 62] Score: 0.9083999991416932 in 17.029687881469727 seconds\n",
      "[Epoch 63] Score: 0.9065999984741212 in 17.07868504524231 seconds\n",
      "[Epoch 64] Score: 0.9041999578475952 in 17.02922797203064 seconds\n",
      "[Epoch 65] Score: 0.9070999622344972 in 17.071913480758667 seconds\n",
      "[Epoch 66] Score: 0.9077999591827391 in 17.068039178848267 seconds\n",
      "[Epoch 67] Score: 0.9038999676704408 in 17.036720514297485 seconds\n",
      "[Epoch 68] Score: 0.9078999757766724 in 17.048779726028442 seconds\n",
      "[Epoch 69] Score: 0.90829998254776 in 17.07537579536438 seconds\n",
      "[Epoch 70] Score: 0.9052000045776368 in 17.030975341796875 seconds\n",
      "[Epoch 71] Score: 0.9041000008583068 in 17.058356285095215 seconds\n",
      "[Epoch 72] Score: 0.9052000045776368 in 17.071425437927246 seconds\n",
      "[Epoch 73] Score: 0.9065999984741212 in 17.023932456970215 seconds\n",
      "[Epoch 74] Score: 0.9071999788284302 in 17.057878971099854 seconds\n",
      "[Epoch 75] Score: 0.903599977493286 in 17.024352312088013 seconds\n",
      "[Epoch 76] Score: 0.9041000008583068 in 17.043219089508057 seconds\n",
      "[Epoch 77] Score: 0.9049999713897704 in 17.02812170982361 seconds\n",
      "[Epoch 78] Score: 0.9048999547958374 in 17.02155828475952 seconds\n",
      "[Epoch 79] Score: 0.9080999493598938 in 17.041534423828125 seconds\n",
      "[Epoch 80] Score: 0.9048999547958374 in 17.034689903259277 seconds\n",
      "[Epoch 81] Score: 0.9057999849319458 in 17.072166442871094 seconds\n",
      "[Epoch 82] Score: 0.9047999978065492 in 17.077842235565186 seconds\n",
      "[Epoch 83] Score: 0.901799976825714 in 17.083451986312866 seconds\n",
      "[Epoch 84] Score: 0.9053999781608582 in 17.159395933151245 seconds\n",
      "[Epoch 85] Score: 0.9061999917030334 in 17.052698373794556 seconds\n",
      "[Epoch 86] Score: 0.9088000059127808 in 17.083054065704346 seconds\n",
      "[Epoch 87] Score: 0.9049999713897704 in 17.034953117370605 seconds\n",
      "[Epoch 88] Score: 0.9025999903678894 in 17.052231788635254 seconds\n",
      "[Epoch 89] Score: 0.9055999517440796 in 17.020848512649536 seconds\n",
      "[Epoch 90] Score: 0.9070000052452089 in 17.061930418014526 seconds\n",
      "[Epoch 91] Score: 0.9059999585151672 in 17.020578861236572 seconds\n",
      "[Epoch 92] Score: 0.9067999720573424 in 17.03404951095581 seconds\n",
      "[Epoch 93] Score: 0.9062999486923218 in 17.058685541152954 seconds\n",
      "[Epoch 94] Score: 0.905299961566925 in 17.061479568481445 seconds\n",
      "[Epoch 95] Score: 0.9052000045776368 in 17.02421998977661 seconds\n",
      "[Epoch 96] Score: 0.9052000045776368 in 17.057613134384155 seconds\n",
      "[Epoch 97] Score: 0.9028999805450441 in 17.065155506134033 seconds\n",
      "[Epoch 98] Score: 0.9045999646186828 in 17.039196491241455 seconds\n",
      "[Epoch 99] Score: 0.9059000015258788 in 17.080703020095825 seconds\n",
      "[Epoch 100] Score: 0.9034000039100648 in 17.041390419006348 seconds\n",
      "[Epoch 101] Score: 0.9061999917030334 in 17.04677104949951 seconds\n",
      "[Epoch 102] Score: 0.9066999554634094 in 17.139984846115112 seconds\n",
      "[Epoch 103] Score: 0.9053999781608582 in 17.08256721496582 seconds\n",
      "[Epoch 104] Score: 0.9042999744415284 in 17.129535913467407 seconds\n",
      "[Epoch 105] Score: 0.9081999659538268 in 17.0901882648468 seconds\n",
      "[Epoch 106] Score: 0.9077000021934508 in 17.057148933410645 seconds\n",
      "[Epoch 107] Score: 0.9039999842643738 in 17.027978897094727 seconds\n",
      "[Epoch 108] Score: 0.9030999541282654 in 17.073014974594116 seconds\n",
      "[Epoch 109] Score: 0.9081999659538268 in 17.052680253982544 seconds\n",
      "[Epoch 110] Score: 0.9027999639511108 in 17.0283043384552 seconds\n",
      "[Epoch 111] Score: 0.9048999547958374 in 17.064481735229492 seconds\n",
      "[Epoch 112] Score: 0.9065999984741212 in 17.052366256713867 seconds\n",
      "[Epoch 113] Score: 0.9044999480247498 in 17.08117914199829 seconds\n",
      "[Epoch 114] Score: 0.9016000032424928 in 17.077667474746704 seconds\n",
      "[Epoch 115] Score: 0.901099979877472 in 17.083479166030884 seconds\n",
      "[Epoch 116] Score: 0.904699981212616 in 17.06048560142517 seconds\n",
      "[Epoch 117] Score: 0.9018999934196472 in 17.04382038116455 seconds\n",
      "[Epoch 118] Score: 0.9063999652862548 in 17.045793056488037 seconds\n",
      "[Epoch 119] Score: 0.9024999737739564 in 17.16767454147339 seconds\n",
      "[Epoch 120] Score: 0.9045999646186828 in 17.085505962371826 seconds\n",
      "[Epoch 121] Score: 0.9104999899864196 in 17.037564039230347 seconds\n",
      "[Epoch 122] Score: 0.9047999978065492 in 17.034374475479126 seconds\n",
      "[Epoch 123] Score: 0.9095999598503112 in 17.042073249816895 seconds\n",
      "[Epoch 124] Score: 0.9077999591827391 in 17.099819898605347 seconds\n",
      "[Epoch 125] Score: 0.9114999771118164 in 17.042471170425415 seconds\n",
      "[Epoch 126] Score: 0.9092999696731568 in 17.043865442276 seconds\n",
      "[Epoch 127] Score: 0.9088000059127808 in 20.12201476097107 seconds\n",
      "[Epoch 128] Score: 0.9088000059127808 in 17.076719760894775 seconds\n",
      "[Epoch 129] Score: 0.9088000059127808 in 17.066066026687622 seconds\n",
      "[Epoch 130] Score: 0.9072999954223632 in 17.058291912078857 seconds\n",
      "[Epoch 131] Score: 0.910099983215332 in 17.06215500831604 seconds\n",
      "[Epoch 132] Score: 0.9099999666213988 in 17.120238065719604 seconds\n",
      "[Epoch 133] Score: 0.9073999524116516 in 17.058271884918213 seconds\n",
      "[Epoch 134] Score: 0.9126999974250792 in 17.129953861236572 seconds\n",
      "[Epoch 135] Score: 0.9103999733924866 in 17.07891273498535 seconds\n",
      "[Epoch 136] Score: 0.9085999727249146 in 17.078457593917847 seconds\n",
      "[Epoch 137] Score: 0.9103999733924866 in 17.076091527938843 seconds\n",
      "[Epoch 138] Score: 0.9097999930381776 in 17.04654312133789 seconds\n",
      "[Epoch 139] Score: 0.9088999629020692 in 17.046056509017944 seconds\n",
      "[Epoch 140] Score: 0.9089999794960022 in 17.06190013885498 seconds\n",
      "[Epoch 141] Score: 0.910099983215332 in 17.030452728271484 seconds\n",
      "[Epoch 142] Score: 0.9107999801635742 in 17.092775344848633 seconds\n",
      "[Epoch 143] Score: 0.9115999937057496 in 17.05510711669922 seconds\n",
      "[Epoch 144] Score: 0.9121999740600586 in 17.09174656867981 seconds\n",
      "[Epoch 145] Score: 0.9092999696731568 in 17.084010124206543 seconds\n",
      "[Epoch 146] Score: 0.9103999733924866 in 17.08185338973999 seconds\n",
      "[Epoch 147] Score: 0.910099983215332 in 17.027273178100586 seconds\n",
      "[Epoch 148] Score: 0.9122999906539916 in 17.034130096435547 seconds\n",
      "[Epoch 149] Score: 0.909500002861023 in 17.022823333740234 seconds\n",
      "[Epoch 150] Score: 0.909500002861023 in 17.053926944732666 seconds\n",
      "[Epoch 151] Score: 0.9085999727249146 in 17.02171015739441 seconds\n",
      "[Epoch 152] Score: 0.9068999886512756 in 17.043952703475952 seconds\n",
      "[Epoch 153] Score: 0.9056999683380128 in 17.08633065223694 seconds\n",
      "[Epoch 154] Score: 0.9092999696731568 in 17.05599570274353 seconds\n",
      "[Epoch 155] Score: 0.9095999598503112 in 17.048691987991333 seconds\n",
      "[Epoch 156] Score: 0.911199986934662 in 17.18219757080078 seconds\n",
      "[Epoch 157] Score: 0.9109999537467957 in 17.07103204727173 seconds\n",
      "[Epoch 158] Score: 0.9084999561309814 in 17.102688550949097 seconds\n",
      "[Epoch 159] Score: 0.9098999500274658 in 17.072431564331055 seconds\n",
      "[Epoch 160] Score: 0.9091999530792236 in 17.11886191368103 seconds\n",
      "[Epoch 161] Score: 0.9091999530792236 in 17.148473978042603 seconds\n",
      "[Epoch 162] Score: 0.9093999862670898 in 17.099966287612915 seconds\n",
      "[Epoch 163] Score: 0.90829998254776 in 17.066614627838135 seconds\n",
      "[Epoch 164] Score: 0.9067999720573424 in 17.070306539535522 seconds\n",
      "[Epoch 165] Score: 0.9075999855995178 in 17.081213235855103 seconds\n",
      "[Epoch 166] Score: 0.9106999635696412 in 17.076644897460938 seconds\n",
      "[Epoch 167] Score: 0.9101999998092652 in 17.057311058044434 seconds\n",
      "[Epoch 168] Score: 0.9084999561309814 in 17.081016778945923 seconds\n",
      "[Epoch 169] Score: 0.9075999855995178 in 17.065680503845215 seconds\n",
      "[Epoch 170] Score: 0.9084999561309814 in 17.08670139312744 seconds\n",
      "[Epoch 171] Score: 0.9079999923706056 in 17.083455562591553 seconds\n",
      "[Epoch 172] Score: 0.910099983215332 in 17.092357397079468 seconds\n",
      "[Epoch 173] Score: 0.9072999954223632 in 17.149045705795288 seconds\n",
      "[Epoch 174] Score: 0.9102999567985536 in 17.076194286346436 seconds\n",
      "[Epoch 175] Score: 0.9085999727249146 in 17.09711790084839 seconds\n",
      "[Epoch 176] Score: 0.9095999598503112 in 17.076643228530884 seconds\n",
      "[Epoch 177] Score: 0.9098999500274658 in 17.11437702178955 seconds\n",
      "[Epoch 178] Score: 0.9089999794960022 in 17.06158947944641 seconds\n",
      "[Epoch 179] Score: 0.911899983882904 in 17.080704927444458 seconds\n",
      "[Epoch 180] Score: 0.9106999635696412 in 17.071221113204956 seconds\n",
      "[Epoch 181] Score: 0.9107999801635742 in 17.08359384536743 seconds\n",
      "[Epoch 182] Score: 0.911199986934662 in 17.078510284423828 seconds\n",
      "[Epoch 183] Score: 0.9102999567985536 in 17.099409580230713 seconds\n",
      "[Epoch 184] Score: 0.9080999493598938 in 17.04873299598694 seconds\n",
      "[Epoch 185] Score: 0.9108999967575072 in 17.07826066017151 seconds\n",
      "[Epoch 186] Score: 0.9093999862670898 in 17.098393201828003 seconds\n",
      "[Epoch 187] Score: 0.9106000065803528 in 17.072986841201782 seconds\n",
      "[Epoch 188] Score: 0.9110999703407288 in 17.110036373138428 seconds\n",
      "[Epoch 189] Score: 0.911300003528595 in 17.076401710510254 seconds\n",
      "[Epoch 190] Score: 0.9133999943733216 in 17.07557511329651 seconds\n",
      "[Epoch 191] Score: 0.9126999974250792 in 17.079343557357788 seconds\n",
      "[Epoch 192] Score: 0.9115999937057496 in 17.06296730041504 seconds\n",
      "[Epoch 193] Score: 0.9107999801635742 in 17.09764862060547 seconds\n",
      "[Epoch 194] Score: 0.9101999998092652 in 17.079952478408813 seconds\n",
      "[Epoch 195] Score: 0.9081999659538268 in 17.07556462287903 seconds\n",
      "[Epoch 196] Score: 0.9106999635696412 in 17.062597274780273 seconds\n",
      "[Epoch 197] Score: 0.9104999899864196 in 17.063815593719482 seconds\n",
      "[Epoch 198] Score: 0.9109999537467957 in 17.098054885864258 seconds\n",
      "[Epoch 199] Score: 0.9107999801635742 in 17.078054189682007 seconds\n",
      "Finished simulation in 3438.8543705940247 seconds\n"
     ]
    }
   ],
   "source": [
    "stats_path = './exp-dask/stats/dec-lr-512bs-final.csv'\n",
    "for grads_per_worker in [32, 64, 128, 256, 512]:\n",
    "    out_path = 'exp-dask/sim-results/grads_per_worker/grads_per_worker_{}-final.csv'.format(grads_per_worker)\n",
    "    run_sim(stats_path, out_path, timings, n_epochs=200, grads_per_worker=grads_per_worker)"
   ]
  },
  {
   "cell_type": "markdown",
   "metadata": {},
   "source": [
    "## Simulations with faster network bandwidth #2 (comment)."
   ]
  },
  {
   "cell_type": "code",
   "execution_count": 11,
   "metadata": {},
   "outputs": [],
   "source": [
    "## Timings for new simulation\n",
    "SCORE_TIME = 0.0 # 5.39407711148262\n",
    "DEEPCOPY_TIME = 0.127488e-3  # seconds\n",
    "GRAD_TIME_128 = 78.32e-3  # seconds\n",
    "timings = { 'mult': True, 'score': SCORE_TIME, 'deepcopy': DEEPCOPY_TIME, 'grad128': GRAD_TIME_128 }"
   ]
  },
  {
   "cell_type": "code",
   "execution_count": null,
   "metadata": {},
   "outputs": [],
   "source": [
    "# exp 2.1 - dec-lr-P-machine-fast\n",
    "stats_path = './exp-dask/stats/decreasing-lr/exp--final.csv'\n",
    "out_path = 'sim-results/dec-lr-mult-machines-fast'\n",
    "run_sim(stats_path, out_path, timings)"
   ]
  },
  {
   "cell_type": "code",
   "execution_count": null,
   "metadata": {},
   "outputs": [],
   "source": [
    "# exp 2.2 - increasing batch p machines\n",
    "stats_path = './exp-dask/stats/increasing-bs/exp-final.csv'\n",
    "out_path = 'sim-results/inc-bs-mult-machines-fast'\n",
    "run_sim(stats_path, out_path, timings)"
   ]
  },
  {
   "cell_type": "code",
   "execution_count": null,
   "metadata": {},
   "outputs": [],
   "source": [
    "# exp 2.3 - hybrid 1 P machine\n",
    "stats_path = './exp-dask/stats/hybrid/exp-final.csv'\n",
    "out_path = 'sim-results/hybrid1-mult-machines-fast'\n",
    "run_sim(stats_path, out_path, timings)"
   ]
  },
  {
   "cell_type": "code",
   "execution_count": null,
   "metadata": {},
   "outputs": [],
   "source": [
    "# exp 2.4 - hybrid 2 P machine\n",
    "stats_path = './exp-dask/stats/hybrid-2/exp-final.csv'\n",
    "out_path = 'sim-results/hybrid2-mult-machines-fast'\n",
    "run_sim(stats_path, out_path, timings)"
   ]
  },
  {
   "cell_type": "code",
   "execution_count": null,
   "metadata": {},
   "outputs": [],
   "source": [
    "# exp 11 - large bs 1 P machine\n",
    "stats_path = './exp-dask/stats/large-bs-0/exp-final.csv'\n",
    "out_path = 'sim-results/large-bs1-mult-machines-fast'\n",
    "run_sim(stats_path, out_path, timings, max_bs=5120)"
   ]
  },
  {
   "cell_type": "code",
   "execution_count": null,
   "metadata": {},
   "outputs": [],
   "source": [
    "# exp 12 - large bs 2 P machine\n",
    "stats_path = './exp-dask/stats/large-bs-1/exp-final.csv'\n",
    "out_path = 'sim-results/large-bs2-mult-machines-fast'\n",
    "run_sim(stats_path, out_path, timings, max_bs=5120)"
   ]
  },
  {
   "cell_type": "markdown",
   "metadata": {},
   "source": [
    "\n",
    "\n",
    "\n",
    "\n",
    "\n",
    "\n",
    "## Simulations for 1 machine with normal network bandwidth"
   ]
  },
  {
   "cell_type": "code",
   "execution_count": 11,
   "metadata": {},
   "outputs": [],
   "source": [
    "## TIMINGS FOR NORMAL EXPERIMENTS\n",
    "SCORE_TIME = 0.0 # 5.39407711148262\n",
    "DEEPCOPY_TIME = 0.05855  # seconds\n",
    "GRAD_TIME_128 = 0.07832  # seconds\n",
    "timings = { 'mult': False, 'score': SCORE_TIME, 'deepcopy': DEEPCOPY_TIME, 'grad128': GRAD_TIME_128 }"
   ]
  },
  {
   "cell_type": "code",
   "execution_count": null,
   "metadata": {},
   "outputs": [],
   "source": [
    "# exp 1 - dec-lr-1-machine \n",
    "stats_path = './exp-dask/stats/decreasing-lr/exp--final.csv'\n",
    "out_path = 'sim-results/dec-lr-1-machine'\n",
    "run_sim(stats_path, out_path, timings)"
   ]
  },
  {
   "cell_type": "code",
   "execution_count": null,
   "metadata": {},
   "outputs": [],
   "source": [
    "# exp 5 - large bs 1 1 machine\n",
    "stats_path = './exp-dask/stats/large-bs-0/exp-final.csv'\n",
    "out_path = 'sim-results/large-bs1-1-machine'\n",
    "run_sim(stats_path, out_path, timings, max_bs=5120)"
   ]
  },
  {
   "cell_type": "code",
   "execution_count": null,
   "metadata": {},
   "outputs": [],
   "source": [
    "# exp 2 - inc-bs\n",
    "stats_path = './exp-dask/stats/increasing-bs/exp-final.csv'\n",
    "out_path = 'sim-results/inc-bs-1-machine'\n",
    "run_sim(stats_path, out_path, timings)"
   ]
  },
  {
   "cell_type": "code",
   "execution_count": null,
   "metadata": {},
   "outputs": [],
   "source": [
    "# exp 3 - hybrid 1 1 machine\n",
    "stats_path = './exp-dask/stats/hybrid/exp-final.csv'\n",
    "out_path = 'sim-results/hybrid1-1-machine'\n",
    "run_sim(stats_path, out_path, timings)"
   ]
  },
  {
   "cell_type": "code",
   "execution_count": null,
   "metadata": {},
   "outputs": [],
   "source": [
    "# exp 4 - hybrid 2 1 machine\n",
    "stats_path = './exp-dask/stats/hybrid-2/exp-final.csv'\n",
    "out_path = 'sim-results/hybrid2-1-machine'\n",
    "run_sim(stats_path, out_path, timings)"
   ]
  },
  {
   "cell_type": "code",
   "execution_count": null,
   "metadata": {},
   "outputs": [],
   "source": [
    "# exp 6 - large bs 2 1 machine\n",
    "stats_path = './exp-dask/stats/large-bs-1/exp-final.csv'\n",
    "out_path = 'sim-results/large-bs2-1-machine'\n",
    "run_sim(stats_path, out_path, timings, max_bs=5120)"
   ]
  },
  {
   "cell_type": "markdown",
   "metadata": {},
   "source": [
    "## Simulations for multiple machines with normal network bandwidth"
   ]
  },
  {
   "cell_type": "code",
   "execution_count": 16,
   "metadata": {},
   "outputs": [],
   "source": [
    "# timings for multi machine set ups\n",
    "SCORE_TIME = 0.0 # 5.39407711148262\n",
    "DEEPCOPY_TIME = 0.0 # set internall based on N workers\n",
    "GRAD_TIME_128 = 0.07832  # seconds\n",
    "timings = { 'mult': True, 'score': SCORE_TIME, 'deepcopy': DEEPCOPY_TIME, 'grad128': GRAD_TIME_128 }"
   ]
  },
  {
   "cell_type": "code",
   "execution_count": null,
   "metadata": {},
   "outputs": [],
   "source": [
    "# exp 11 - large bs 1 P machine\n",
    "stats_path = './exp-dask/stats/large-bs-0/exp-final.csv'\n",
    "out_path = 'sim-results/large-bs1-mult-machines'\n",
    "run_sim(stats_path, out_path, timings, max_bs=5120)"
   ]
  },
  {
   "cell_type": "code",
   "execution_count": null,
   "metadata": {},
   "outputs": [],
   "source": [
    "# exp 7 - dec-lr-P-machine \n",
    "stats_path = './exp-dask/stats/decreasing-lr/exp--final.csv'\n",
    "out_path = 'sim-results/dec-lr-mult-machines'\n",
    "run_sim(stats_path, out_path, timings)"
   ]
  },
  {
   "cell_type": "code",
   "execution_count": null,
   "metadata": {},
   "outputs": [],
   "source": [
    "# exp 8 - increasing batch p machines\n",
    "stats_path = './exp-dask/stats/increasing-bs/exp-final.csv'\n",
    "out_path = 'sim-results/inc-bs-mult-machines'\n",
    "run_sim(stats_path, out_path, timings)"
   ]
  },
  {
   "cell_type": "code",
   "execution_count": null,
   "metadata": {},
   "outputs": [],
   "source": [
    "# exp 9 - hybrid 1 P machine\n",
    "stats_path = './exp-dask/stats/hybrid/exp-final.csv'\n",
    "out_path = 'sim-results/hybrid1-mult-machines'\n",
    "run_sim(stats_path, out_path, timings)"
   ]
  },
  {
   "cell_type": "code",
   "execution_count": null,
   "metadata": {},
   "outputs": [],
   "source": [
    "# exp 10 - hybrid 2 P machine\n",
    "stats_path = './exp-dask/stats/hybrid-2/exp-final.csv'\n",
    "out_path = 'sim-results/hybrid2-mult-machines'\n",
    "run_sim(stats_path, out_path, timings)"
   ]
  },
  {
   "cell_type": "code",
   "execution_count": null,
   "metadata": {},
   "outputs": [],
   "source": [
    "# exp 12 - large bs 2 P machine\n",
    "stats_path = './exp-dask/stats/large-bs-1/exp-final.csv'\n",
    "out_path = 'sim-results/large-bs2-mult-machines'\n",
    "run_sim(stats_path, out_path, timings, max_bs=5120)"
   ]
  }
 ],
 "metadata": {
  "kernelspec": {
   "display_name": "Environment (conda_pytorch_latest_p37)",
   "language": "python",
   "name": "conda_pytorch_latest_p37"
  },
  "language_info": {
   "codemirror_mode": {
    "name": "ipython",
    "version": 3
   },
   "file_extension": ".py",
   "mimetype": "text/x-python",
   "name": "python",
   "nbconvert_exporter": "python",
   "pygments_lexer": "ipython3",
   "version": "3.7.6"
  }
 },
 "nbformat": 4,
 "nbformat_minor": 4
}
