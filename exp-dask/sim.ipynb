{
 "cells": [
  {
   "cell_type": "markdown",
   "metadata": {},
   "source": [
    "## Simulate running on multiple GPUs\n",
    "\n",
    "- Should run simulations on GPU instance (due to mem bandwidth + model update timings)"
   ]
  },
  {
   "cell_type": "code",
   "execution_count": 1,
   "metadata": {},
   "outputs": [],
   "source": [
    "from dask.distributed import Client"
   ]
  },
  {
   "cell_type": "code",
   "execution_count": 2,
   "metadata": {},
   "outputs": [],
   "source": [
    "%load_ext autoreload\n",
    "%autoreload 2"
   ]
  },
  {
   "cell_type": "code",
   "execution_count": 17,
   "metadata": {},
   "outputs": [],
   "source": [
    "import os\n",
    "os.chdir('/home/ubuntu/adadamp-experiments/')\n",
    "\n",
    "import torch\n",
    "import torchvision\n",
    "import torchvision.transforms as transforms\n",
    "import torch.nn as nn\n",
    "import csv\n",
    "import pandas as pd\n",
    "from time import time\n",
    "from copy import copy\n",
    "from adadamp.adadamp import DaskClassifierSimulator"
   ]
  },
  {
   "cell_type": "code",
   "execution_count": 18,
   "metadata": {},
   "outputs": [
    {
     "name": "stderr",
     "output_type": "stream",
     "text": [
      "/home/ubuntu/anaconda3/envs/pytorch_latest_p37/lib/python3.7/site-packages/distributed/dashboard/core.py:79: UserWarning: \n",
      "Port 8787 is already in use. \n",
      "Perhaps you already have a cluster running?\n",
      "Hosting the diagnostics dashboard on a random port instead.\n",
      "  warnings.warn(\"\\n\" + msg)\n"
     ]
    },
    {
     "data": {
      "text/html": [
       "<table style=\"border: 2px solid white;\">\n",
       "<tr>\n",
       "<td style=\"vertical-align: top; border: 0px solid white\">\n",
       "<h3 style=\"text-align: left;\">Client</h3>\n",
       "<ul style=\"text-align: left; list-style: none; margin: 0; padding: 0;\">\n",
<<<<<<< HEAD
       "  <li><b>Scheduler: </b>inproc://192.168.0.110/53124/1</li>\n",
       "  <li><b>Dashboard: </b><a href='http://192.168.0.110:8787/status' target='_blank'>http://192.168.0.110:8787/status</a></li>\n",
=======
       "  <li><b>Scheduler: </b>inproc://172.31.40.124/2295/14</li>\n",
       "  <li><b>Dashboard: </b><a href='http://172.31.40.124:35881/status' target='_blank'>http://172.31.40.124:35881/status</a>\n",
>>>>>>> 209fa285f5004e010f6502401861d8b7083aa907
       "</ul>\n",
       "</td>\n",
       "<td style=\"vertical-align: top; border: 0px solid white\">\n",
       "<h3 style=\"text-align: left;\">Cluster</h3>\n",
       "<ul style=\"text-align: left; list-style:none; margin: 0; padding: 0;\">\n",
       "  <li><b>Workers: </b>1</li>\n",
       "  <li><b>Cores: </b>4</li>\n",
       "  <li><b>Memory: </b>16.48 GB</li>\n",
       "</ul>\n",
       "</td>\n",
       "</tr>\n",
       "</table>"
      ],
      "text/plain": [
<<<<<<< HEAD
       "<Client: 'inproc://192.168.0.110/53124/1' processes=1 threads=8, memory=17.18 GB>"
=======
       "<Client: 'inproc://172.31.40.124/2295/14' processes=1 threads=4, memory=16.48 GB>"
>>>>>>> 209fa285f5004e010f6502401861d8b7083aa907
      ]
     },
     "execution_count": 18,
     "metadata": {},
     "output_type": "execute_result"
    }
   ],
   "source": [
    "# training client\n",
    "from dask.distributed import Client\n",
    "\n",
    "def _prep():\n",
    "    from distributed.protocol import torch\n",
    "\n",
    "client = Client(processes=False)\n",
    "client.run(_prep)\n",
    "client"
   ]
  },
  {
   "cell_type": "code",
   "execution_count": 19,
   "metadata": {},
   "outputs": [
    {
     "name": "stdout",
     "output_type": "stream",
     "text": [
      "Files already downloaded and verified\n",
      "Files already downloaded and verified\n"
     ]
    }
   ],
   "source": [
    "transform_train = transforms.Compose([\n",
    "    transforms.RandomCrop(32, padding=4),\n",
    "    transforms.RandomHorizontalFlip(),\n",
    "    transforms.ToTensor(),\n",
    "    transforms.Normalize((0.4914, 0.4822, 0.4465), (0.2023, 0.1994, 0.2010)),\n",
    "])\n",
    "\n",
    "transform_test = transforms.Compose([\n",
    "    transforms.ToTensor(),\n",
    "    transforms.Normalize((0.4914, 0.4822, 0.4465), (0.2023, 0.1994, 0.2010)),\n",
    "])\n",
    "train_set = torchvision.datasets.CIFAR10(root='./exp-dask/data', train=True, download=True, transform=transform_train)\n",
    "test_set = torchvision.datasets.CIFAR10(root='./exp-dask/data', train=False, download=True, transform=transform_test)\n",
    "classes = ('plane', 'car', 'bird', 'cat', 'deer', 'dog', 'frog', 'horse', 'ship', 'truck')"
   ]
  },
  {
   "cell_type": "code",
   "execution_count": 20,
   "metadata": {},
   "outputs": [],
   "source": [
    "def write_stats(hist, directory, filename):\n",
    "    toCSV = hist\n",
    "    with open('./exp-dask/{}/{}'.format(directory, filename), 'w', encoding='utf8', newline='') as output_file:\n",
    "        fc = csv.DictWriter(output_file, fieldnames=toCSV[0].keys())\n",
    "        fc.writeheader()\n",
    "        fc.writerows(toCSV)"
   ]
  },
  {
   "cell_type": "code",
   "execution_count": 21,
   "metadata": {},
   "outputs": [],
   "source": [
    "def train(model, train_set, test_set, stats_df, n_epochs=200, log_interval=1, stats_dir=''):\n",
    "    \"\"\"\n",
    "    Train based on expiriment params\n",
    "    \n",
    "    Parameters:\n",
    "    epoch_sched: update lr and bs at epochs in this list\n",
    "    lr_sched: update lr to value at matching epoch. Should be same length as epoch_sched\n",
    "    bs_sched: update bs to value at matching epoch. Should be same length as epoch_sched\n",
    "    \"\"\"\n",
    "    \n",
    "    stats = list(stats_df.T.to_dict().values())\n",
    "    print(\"[SETUP] Loaded {} epochs of stats\".format(len(stats)))\n",
    "    test_set = model.preprocess(test_set)\n",
    "    train_set = model.preprocess(train_set)\n",
    "    \n",
    "    history = []\n",
    "    for epoch in range(min(n_epochs, len(stats))):\n",
    "        \n",
    "        start = time()\n",
    "        \n",
    "        # set stats\n",
    "        stat = stats.pop(0)\n",
    "        model.set_sim(stat)\n",
    "        \n",
    "        # run\n",
    "        print(\"[Epoch {}]\".format(epoch), end=\"\")\n",
    "        model.partial_fit(train_set)\n",
    "        score = model.score(test_set)\n",
    "        \n",
    "        datum = {\"epoch\": epoch, \"score\": score, **model.get_params(), **model.meta_}\n",
    "        print(\" Score: {} in {} seconds\".format(score, time() - start))\n",
    "        history.append(datum)\n",
    "        \n",
    "        if epoch % log_interval == 0:\n",
    "            write_stats(history, stats_dir, 'results-ep{}.csv'.format(epoch))\n",
    "\n",
    "    return history"
   ]
  },
  {
   "cell_type": "code",
   "execution_count": 22,
   "metadata": {},
   "outputs": [],
   "source": [
    "from model import Wide_ResNet\n",
    "\n",
    "client.upload_file(\"./exp-dask/model.py\")"
   ]
  },
  {
   "cell_type": "code",
   "execution_count": 23,
   "metadata": {},
   "outputs": [],
   "source": [
    "device = \"cpu\" if not torch.cuda.is_available() else \"cuda:0\"\n",
    "args = dict(\n",
    "    module=Wide_ResNet,\n",
    "    module__depth=16,\n",
    "    module__widen_factor=4,\n",
    "    module__dropout_rate=0.3,\n",
    "    module__num_classes=len(classes),\n",
    "    loss=torch.nn.CrossEntropyLoss,\n",
    "    optimizer=torch.optim.SGD,\n",
    "    optimizer__lr=0.1,\n",
    "    optimizer__momentum=0.9,\n",
    "    optimizer__nesterov=True,\n",
    "    optimizer__weight_decay=0.5e-3,\n",
    "    batch_size=128,\n",
    "    max_epochs=200,\n",
    "    device=device,\n",
    "    grads_per_worker=128,\n",
    "    client=client\n",
    ")"
   ]
  },
  {
   "cell_type": "code",
<<<<<<< HEAD
   "execution_count": 10,
=======
   "execution_count": 26,
>>>>>>> 209fa285f5004e010f6502401861d8b7083aa907
   "metadata": {},
   "outputs": [
    {
     "name": "stdout",
     "output_type": "stream",
     "text": [
      "[SETUP] Loaded 200 epochs of stats\n",
<<<<<<< HEAD
      "[Epoch 0]Partial in  33.26267695426941\n",
      "Score in 1.5020370483398438e-05\n",
      " Score: 0.5990999937057495\n",
      "[Epoch 1]Partial in  33.22714304924011\n",
      "Score in 1.2159347534179688e-05\n",
      " Score: 0.6762999892234802\n",
      "[Epoch 2]Partial in  33.9434540271759\n",
      "Score in 1.811981201171875e-05\n",
      " Score: 0.7156999707221985\n"
=======
      "[Epoch 0] Score: 0.5990999937057495 in 22.495636463165283 seconds\n",
      "[Epoch 1] Score: 0.6762999892234802 in 22.519373416900635 seconds\n",
      "[Epoch 2] Score: 0.7156999707221985 in 22.48600435256958 seconds\n"
>>>>>>> 209fa285f5004e010f6502401861d8b7083aa907
     ]
    }
   ],
   "source": [
    "from dask.distributed import performance_report\n",
    "model = DaskClassifierSimulator(**args)\n",
    "stats_df = pd.read_csv('./exp-dask/stats/decreasing-lr/exp--final.csv')\n",
    "# train\n",
    "hist = None\n",
    "with performance_report(filename=\"sim-report.html\"):\n",
    "    hist = train(model, \n",
    "             train_set, \n",
    "             test_set, \n",
    "             stats_df,\n",
    "             n_epochs=3, \n",
    "             log_interval=20,\n",
    "             stats_dir=\"sim-results/test\"\n",
    "            )"
   ]
  },
  {
   "cell_type": "code",
   "execution_count": 29,
   "metadata": {},
   "outputs": [],
   "source": [
    "write_stats(hist, 'sim-results/test', 'results-final.csv')"
   ]
  },
  {
   "cell_type": "code",
   "execution_count": null,
   "metadata": {},
   "outputs": [],
   "source": []
  }
 ],
 "metadata": {
  "kernelspec": {
   "display_name": "Environment (conda_pytorch_latest_p37)",
   "language": "python",
   "name": "conda_pytorch_latest_p37"
  },
  "language_info": {
   "codemirror_mode": {
    "name": "ipython",
    "version": 3
   },
   "file_extension": ".py",
   "mimetype": "text/x-python",
   "name": "python",
   "nbconvert_exporter": "python",
   "pygments_lexer": "ipython3",
   "version": "3.7.6"
  }
 },
 "nbformat": 4,
 "nbformat_minor": 4
}
