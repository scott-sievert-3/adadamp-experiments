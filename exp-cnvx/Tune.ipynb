{
 "cells": [
  {
   "cell_type": "markdown",
   "metadata": {},
   "source": [
    "TODO:\n",
    "\n",
    "* [ ] create GD/SGD\n",
    "* [ ] Score w/ loss"
   ]
  },
  {
   "cell_type": "code",
   "execution_count": 1,
   "metadata": {},
   "outputs": [],
   "source": [
    "from sklearn.datasets import fetch_covtype\n",
    "from sklearn.model_selection import train_test_split\n",
    "from sklearn.preprocessing import StandardScaler, PolynomialFeatures\n",
    "import numpy as np"
   ]
  },
  {
   "cell_type": "code",
   "execution_count": 2,
   "metadata": {},
   "outputs": [],
   "source": [
    "from tune import Damper\n",
    "from pprint import pprint\n",
    "import pandas as pd"
   ]
  },
  {
   "cell_type": "code",
   "execution_count": 3,
   "metadata": {},
   "outputs": [
    {
     "data": {
      "text/html": [
       "<table style=\"border: 2px solid white;\">\n",
       "<tr>\n",
       "<td style=\"vertical-align: top; border: 0px solid white\">\n",
       "<h3 style=\"text-align: left;\">Client</h3>\n",
       "<ul style=\"text-align: left; list-style: none; margin: 0; padding: 0;\">\n",
       "  <li><b>Scheduler: </b>tcp://localhost:8786</li>\n",
       "  <li><b>Dashboard: </b><a href='http://localhost:56517/status' target='_blank'>http://localhost:56517/status</a></li>\n",
       "</ul>\n",
       "</td>\n",
       "<td style=\"vertical-align: top; border: 0px solid white\">\n",
       "<h3 style=\"text-align: left;\">Cluster</h3>\n",
       "<ul style=\"text-align: left; list-style:none; margin: 0; padding: 0;\">\n",
       "  <li><b>Workers: </b>1</li>\n",
       "  <li><b>Cores: </b>2</li>\n",
       "  <li><b>Memory: </b>17.18 GB</li>\n",
       "</ul>\n",
       "</td>\n",
       "</tr>\n",
       "</table>"
      ],
      "text/plain": [
       "<Client: 'tcp://10.64.32.28:8786' processes=1 threads=2, memory=17.18 GB>"
      ]
     },
     "execution_count": 3,
     "metadata": {},
     "output_type": "execute_result"
    }
   ],
   "source": [
    "from distributed import Client, LocalCluster\n",
    "# client = await Client(\"localhost:6786\", asynchronous=True)\n",
    "# cluster = await LocalCluster(n_workers=3, threads_per_worker=2, asynchronous=True)\n",
    "# client = await Client(cluster)\n",
    "# client = await Client(\"localhost:8786\", asynchronous=True)\n",
    "client = await Client(\"localhost:8786\", asynchronous=True)\n",
    "# client = Client()\n",
    "client"
   ]
  },
  {
   "cell_type": "code",
   "execution_count": 4,
   "metadata": {},
   "outputs": [
    {
     "data": {
      "text/plain": [
       "{'tcp://127.0.0.1:56611': {'status': 'OK'}}"
      ]
     },
     "execution_count": 4,
     "metadata": {},
     "output_type": "execute_result"
    }
   ],
   "source": [
    "await client.upload_file(\"train.py\")\n",
    "await client.upload_file(\"tune.py\")"
   ]
  },
  {
   "cell_type": "code",
   "execution_count": 5,
   "metadata": {},
   "outputs": [
    {
     "data": {
      "text/plain": [
       "True"
      ]
     },
     "execution_count": 5,
     "metadata": {},
     "output_type": "execute_result"
    }
   ],
   "source": [
    "def test():\n",
    "    from tune import Damper\n",
    "    d = Damper()\n",
    "    return True\n",
    "\n",
    "f = client.submit(test)\n",
    "res = await client.gather(f)\n",
    "res"
   ]
  },
  {
   "cell_type": "code",
   "execution_count": 6,
   "metadata": {},
   "outputs": [],
   "source": [
    "X, y = fetch_covtype(return_X_y=True, shuffle=False, random_state=0)"
   ]
  },
  {
   "cell_type": "code",
   "execution_count": 7,
   "metadata": {},
   "outputs": [
    {
     "data": {
      "text/plain": [
       "(581012, 54)"
      ]
     },
     "execution_count": 7,
     "metadata": {},
     "output_type": "execute_result"
    }
   ],
   "source": [
    "X.shape"
   ]
  },
  {
   "cell_type": "code",
   "execution_count": 8,
   "metadata": {},
   "outputs": [],
   "source": [
    "kernel = PolynomialFeatures(degree=2, interaction_only=True, include_bias=False)\n",
    "X_poly = kernel.fit_transform(X)"
   ]
  },
  {
   "cell_type": "code",
   "execution_count": 9,
   "metadata": {},
   "outputs": [
    {
     "data": {
      "text/plain": [
       "(581012, 1485)"
      ]
     },
     "execution_count": 9,
     "metadata": {},
     "output_type": "execute_result"
    }
   ],
   "source": [
    "X_poly.shape"
   ]
  },
  {
   "cell_type": "code",
   "execution_count": 10,
   "metadata": {},
   "outputs": [],
   "source": [
    "X_train, X_test, y_train, y_test = train_test_split(\n",
    "    X_poly, y, random_state=42, train_size=200_000\n",
    ")"
   ]
  },
  {
   "cell_type": "code",
   "execution_count": 11,
   "metadata": {},
   "outputs": [
    {
     "data": {
      "text/plain": [
       "2.212822437286377"
      ]
     },
     "execution_count": 11,
     "metadata": {},
     "output_type": "execute_result"
    }
   ],
   "source": [
    "X_train.nbytes / 1024**3"
   ]
  },
  {
   "cell_type": "code",
   "execution_count": 12,
   "metadata": {},
   "outputs": [
    {
     "data": {
      "text/plain": [
       "(200000, 1485)"
      ]
     },
     "execution_count": 12,
     "metadata": {},
     "output_type": "execute_result"
    }
   ],
   "source": [
    "X_train.shape"
   ]
  },
  {
   "cell_type": "code",
   "execution_count": 13,
   "metadata": {},
   "outputs": [
    {
     "name": "stdout",
     "output_type": "stream",
     "text": [
      "(200000, 613)\n",
      "(200000, 613)\n"
     ]
    }
   ],
   "source": [
    "def _get_cnts_cols(X):\n",
    "    cols = range(X.shape[1])\n",
    "    uniqs = [np.unique(X[:, c]) for c in cols]\n",
    "    cnts = [c for c, _u in zip(cols, uniqs) if len(_u) > 2]\n",
    "    discrete_cols = [c for c, _u in zip(cols, uniqs) if len(_u) == 2]\n",
    "    return cnts, discrete_cols\n",
    "\n",
    "def normalize(X, scale, cnts, discrete):\n",
    "    Y = scale.transform(X[:, cnts])\n",
    "    Y2 = X[:, discrete].astype(bool).astype(int)  # one element is 30 (not 0/1)\n",
    "    Z = np.hstack((Y2, Y))\n",
    "    return Z\n",
    "\n",
    "cnts, discrete = _get_cnts_cols(X_train)\n",
    "scale = StandardScaler().fit(X_train[:, cnts])\n",
    "\n",
    "print(X_train[:, cnts + discrete].shape)\n",
    "X_train = normalize(X_train, scale, cnts, discrete)\n",
    "X_test = normalize(X_test, scale, cnts, discrete)\n",
    "print(X_train.shape)\n",
    "\n",
    "uniqs = np.unique(X_train[:, :len(discrete)])\n",
    "assert len(uniqs) == 2 and 0 <= uniqs.min() <= uniqs.max() <= 1"
   ]
  },
  {
   "cell_type": "code",
   "execution_count": 14,
   "metadata": {},
   "outputs": [
    {
     "data": {
      "text/plain": [
       "array([0., 1.])"
      ]
     },
     "execution_count": 14,
     "metadata": {},
     "output_type": "execute_result"
    }
   ],
   "source": [
    "uniqs"
   ]
  },
  {
   "cell_type": "code",
   "execution_count": 15,
   "metadata": {},
   "outputs": [
    {
     "data": {
      "text/plain": [
       "(200000, 613)"
      ]
     },
     "execution_count": 15,
     "metadata": {},
     "output_type": "execute_result"
    }
   ],
   "source": [
    "X_train.shape"
   ]
  },
  {
   "cell_type": "code",
   "execution_count": 16,
   "metadata": {},
   "outputs": [
    {
     "data": {
      "text/plain": [
       "(381012, 613)"
      ]
     },
     "execution_count": 16,
     "metadata": {},
     "output_type": "execute_result"
    }
   ],
   "source": [
    "X_test.shape"
   ]
  },
  {
   "cell_type": "code",
   "execution_count": 17,
   "metadata": {},
   "outputs": [],
   "source": [
    "from scipy.stats import loguniform, uniform\n",
    "from copy import copy\n",
    "\n",
    "batch_pow = np.arange(5, 9 + 1).astype(int)\n",
    "static_batch = (2 ** batch_pow).astype(int).tolist()\n",
    "\n",
    "ibs = (2 ** batch_pow).astype(int).tolist()\n",
    "mbs = (2 ** (batch_pow + 1)).astype(int).tolist()\n",
    "\n",
    "lrs = loguniform(0.5e-4, 1e-1)\n",
    "weight_decays = loguniform(1e-8, 1e-2)\n",
    "momentums = uniform(0, 1)"
   ]
  },
  {
   "cell_type": "code",
   "execution_count": 18,
   "metadata": {},
   "outputs": [],
   "source": [
    "base = {\n",
    "    \"max_batch_size\": static_batch,  # 5 choices\n",
    "    \"weight_decay\": weight_decays,  # cnts\n",
    "    \"momentum\": momentums,  # cnts\n",
    "    \"lr\": [0.9e-3],\n",
    "    \"scoring\": [\"loss\"],\n",
    "}\n",
    "\n",
    "dwell = [1, 2, 5, 10, 20, 50, 100, 200]\n",
    "padadamp_params = {\n",
    "    **copy(base),\n",
    "    \"batch_growth_rate\": loguniform(1e-3, 1e-1),\n",
    "    \"dwell\": dwell,\n",
    "    \"initial_batch_size\": ibs,\n",
    "    \"max_batch_size\": mbs,\n",
    "}\n",
    "\n",
    "hsgd_params = {\n",
    "    **copy(base),\n",
    "    \"initial_batch_size\": [256],\n",
    "    \"max_batch_size\": [2048],\n",
    "    \"lr\": [0.9e-3],\n",
    "    \"batch_growth_rate\": loguniform(1e-3, 1e-1),\n",
    "}\n",
    "\n",
    "geo_params = {\n",
    "    **copy(base),\n",
    "    \"dampingdelay\": [50, 100, 200, 500, 2000],\n",
    "    \"dampingfactor\": loguniform(1, 10),\n",
    "    \"max_batch_size\": [1024, 2048, 2048 * 2, 2048 * 4],\n",
    "    \"initial_batch_size\": [64, 128, 256],\n",
    "}"
   ]
  },
  {
   "cell_type": "code",
   "execution_count": 19,
   "metadata": {},
   "outputs": [],
   "source": [
    "gd_params = {\n",
    "    **copy(base),\n",
    "    \"max_batch_size\": [len(X_train)],\n",
    "}"
   ]
  },
  {
   "cell_type": "code",
   "execution_count": 20,
   "metadata": {},
   "outputs": [
    {
     "data": {
      "text/plain": [
       "{'max_batch_size': [200000],\n",
       " 'weight_decay': <scipy.stats._distn_infrastructure.rv_frozen at 0x12101eed0>,\n",
       " 'momentum': <scipy.stats._distn_infrastructure.rv_frozen at 0x120e93150>,\n",
       " 'lr': [0.0009],\n",
       " 'scoring': ['loss']}"
      ]
     },
     "execution_count": 20,
     "metadata": {},
     "output_type": "execute_result"
    }
   ],
   "source": [
    "gd_params"
   ]
  },
  {
   "cell_type": "code",
   "execution_count": 22,
   "metadata": {},
   "outputs": [
    {
     "data": {
      "text/plain": [
       "1.0"
      ]
     },
     "execution_count": 22,
     "metadata": {},
     "output_type": "execute_result"
    }
   ],
   "source": [
    "import numpy as np\n",
    "n_examples = 75 * len(X_train)\n",
    "n_params = 75\n",
    "\n",
    "max_iter = n_params\n",
    "chunk_size = np.round(n_examples / n_params) + 0\n",
    "chunk_size / len(X_train)"
   ]
  },
  {
   "cell_type": "code",
   "execution_count": 23,
   "metadata": {},
   "outputs": [
    {
     "data": {
      "text/plain": [
       "((200000,), (613,))"
      ]
     },
     "execution_count": 23,
     "metadata": {},
     "output_type": "execute_result"
    }
   ],
   "source": [
    "import dask.array as da\n",
    "X_train2 = da.from_array(X_train, chunks=(chunk_size, -1))\n",
    "y_train2 = da.from_array(y_train, chunks=chunk_size)\n",
    "\n",
    "X_train2.chunks"
   ]
  },
  {
   "cell_type": "code",
   "execution_count": 24,
   "metadata": {},
   "outputs": [],
   "source": [
    "X_train2 = X_train2.persist()\n",
    "y_train2 = y_train2.persist()"
   ]
  },
  {
   "cell_type": "code",
   "execution_count": 25,
   "metadata": {},
   "outputs": [],
   "source": [
    "del X_test\n",
    "del y_test"
   ]
  },
  {
   "cell_type": "code",
   "execution_count": 26,
   "metadata": {},
   "outputs": [],
   "source": [
    "from tune import PadaDamp, Damper, GD, HSGD, GeoDamp\n",
    "\n",
    "seed = 33\n",
    "\n",
    "padadamp = PadaDamp(seed=seed)\n",
    "hsgd = HSGD(seed=seed, name=\"hsgd\")\n",
    "gd = GD(seed=seed, name=\"gd\")\n",
    "sgd = Damper(seed=seed, name=\"sgd\")\n",
    "asgd = Damper(seed=seed, name=\"asgd\", opt=\"asgd\")\n",
    "geo = GeoDamp(seed=seed, name=\"geo\")"
   ]
  },
  {
   "cell_type": "code",
   "execution_count": 27,
   "metadata": {},
   "outputs": [
    {
     "data": {
      "text/plain": [
       "4912"
      ]
     },
     "execution_count": 27,
     "metadata": {},
     "output_type": "execute_result"
    }
   ],
   "source": [
    "from sklearn.base import clone\n",
    "p2 = clone(padadamp)\n",
    "p2.initialize()\n",
    "n_params = [v.nelement() for v in p2.model.module_.parameters()]\n",
    "sum(n_params)"
   ]
  },
  {
   "cell_type": "code",
   "execution_count": 28,
   "metadata": {},
   "outputs": [],
   "source": [
    "from dask_ml.model_selection import HyperbandSearchCV\n",
    "\n",
    "kwargs = dict(\n",
    "    max_iter=max_iter, verbose=True, random_state=6, patience=2, tol=None,\n",
    ")\n",
    "\n",
    "models = {\n",
    "#     \"pada\": (padadamp, padadamp_params),\n",
    "#     \"gd\": (gd, gd_params),\n",
    "#     \"asgd\": (sgd, base),\n",
    "#     \"hsgd\": (hsgd, hsgd_params),\n",
    "    \"geo\": (geo, geo_params),\n",
    "}\n",
    "\n",
    "searches = {\n",
    "    name: HyperbandSearchCV(model, params, prefix=f\"-{name}\", **kwargs)\n",
    "    for name, (model, params) in models.items()\n",
    "}"
   ]
  },
  {
   "cell_type": "code",
   "execution_count": 29,
   "metadata": {},
   "outputs": [
    {
     "data": {
      "text/plain": [
       "{'partial_fit_calls': 920, 'n_models': 49}"
      ]
     },
     "execution_count": 29,
     "metadata": {},
     "output_type": "execute_result"
    }
   ],
   "source": [
    "# _search = searches[\"pada\"]\n",
    "_search = searches[\"geo\"]\n",
    "{k: v for k, v in _search.metadata.items() if not isinstance(v, list)}"
   ]
  },
  {
   "cell_type": "code",
   "execution_count": 30,
   "metadata": {},
   "outputs": [
    {
     "data": {
      "text/plain": [
       "(200000, 613)"
      ]
     },
     "execution_count": 30,
     "metadata": {},
     "output_type": "execute_result"
    }
   ],
   "source": [
    "X_train2.shape"
   ]
  },
  {
   "cell_type": "code",
   "execution_count": 31,
   "metadata": {},
   "outputs": [],
   "source": [
    "# jobs = {name: search.fit(X_train2, y_train2) for name, search in searches.items()}\n",
    "import asyncio\n",
    "jobs = [\n",
    "    search.fit(X_train2, y_train2) if name != \"gd\" else search.fit(X_train, y_train)\n",
    "    for name, search in searches.items()\n",
    "]"
   ]
  },
  {
   "cell_type": "code",
   "execution_count": 32,
   "metadata": {},
   "outputs": [
    {
     "name": "stdout",
     "output_type": "stream",
     "text": [
      "[CV-geo, bracket=3] creating 27 models\n",
      "[CV-geo, bracket=2] creating 12 models\n",
      "[CV-geo, bracket=1] creating 6 models\n",
      "[CV-geo, bracket=0] creating 4 models\n"
     ]
    }
   ],
   "source": [
    "running_searches = asyncio.gather(*jobs)"
   ]
  },
  {
   "cell_type": "code",
   "execution_count": 34,
   "metadata": {},
   "outputs": [
    {
     "data": {
      "text/plain": [
       "<_GatheringFuture pending>"
      ]
     },
     "execution_count": 34,
     "metadata": {},
     "output_type": "execute_result"
    },
    {
     "name": "stdout",
     "output_type": "stream",
     "text": [
      "[CV-geo, bracket=3] validation score of -0.6616 received after 14 partial_fit calls\n",
      "[CV-geo, bracket=0] validation score of -0.6228 received after 17 partial_fit calls\n",
      "[CV-geo, bracket=1] validation score of -0.6592 received after 15 partial_fit calls\n",
      "[CV-geo, bracket=2] validation score of -0.6573 received after 14 partial_fit calls\n",
      "[CV-geo, bracket=2] validation score of -0.6442 received after 16 partial_fit calls\n",
      "[CV-geo, bracket=1] validation score of -0.6543 received after 17 partial_fit calls\n",
      "[CV-geo, bracket=3] validation score of -0.6493 received after 16 partial_fit calls\n",
      "[CV-geo, bracket=0] validation score of -0.6376 received after 19 partial_fit calls\n",
      "[CV-geo, bracket=3] validation score of -0.6236 received after 18 partial_fit calls\n",
      "[CV-geo, bracket=0] validation score of -0.6300 received after 21 partial_fit calls\n",
      "[CV-geo, bracket=1] validation score of -0.6482 received after 19 partial_fit calls\n",
      "[CV-geo, bracket=2] validation score of -0.6297 received after 18 partial_fit calls\n",
      "[CV-geo, bracket=2] validation score of -0.6311 received after 20 partial_fit calls\n",
      "[CV-geo, bracket=1] validation score of -0.6429 received after 21 partial_fit calls\n",
      "[CV-geo, bracket=3] validation score of -0.6278 received after 20 partial_fit calls\n",
      "[CV-geo, bracket=3] validation score of -0.6297 received after 22 partial_fit calls\n",
      "[CV-geo, bracket=0] validation score of -0.6365 received after 23 partial_fit calls\n",
      "[CV-geo, bracket=0] validation score of -0.6486 received after 25 partial_fit calls\n",
      "[CV-geo, bracket=1] validation score of -0.6361 received after 23 partial_fit calls\n",
      "[CV-geo, bracket=2] validation score of -0.6393 received after 22 partial_fit calls\n",
      "[CV-geo, bracket=3] validation score of -0.6341 received after 24 partial_fit calls\n",
      "[CV-geo, bracket=2] validation score of -0.6358 received after 24 partial_fit calls\n",
      "[CV-geo, bracket=1] validation score of -0.6362 received after 25 partial_fit calls\n",
      "[CV-geo, bracket=3] validation score of -0.6451 received after 26 partial_fit calls\n",
      "[CV-geo, bracket=0] validation score of -0.6551 received after 27 partial_fit calls\n",
      "[CV-geo, bracket=0] validation score of -0.6599 received after 29 partial_fit calls\n",
      "[CV-geo, bracket=1] validation score of -0.6347 received after 27 partial_fit calls\n",
      "[CV-geo, bracket=3] validation score of -0.6652 received after 28 partial_fit calls\n",
      "[CV-geo, bracket=2] validation score of -0.6530 received after 26 partial_fit calls\n",
      "[CV-geo, bracket=1] validation score of -0.6282 received after 29 partial_fit calls\n",
      "[CV-geo, bracket=3] validation score of -0.6763 received after 30 partial_fit calls\n",
      "[CV-geo, bracket=2] validation score of -0.6619 received after 28 partial_fit calls\n",
      "[CV-geo, bracket=2] validation score of -0.6806 received after 30 partial_fit calls\n",
      "[CV-geo, bracket=0] validation score of -0.6754 received after 31 partial_fit calls\n",
      "[CV-geo, bracket=3] validation score of -0.6908 received after 32 partial_fit calls\n",
      "[CV-geo, bracket=1] validation score of -0.6273 received after 31 partial_fit calls\n",
      "[CV-geo, bracket=1] validation score of -0.6199 received after 33 partial_fit calls\n",
      "[CV-geo, bracket=0] validation score of -0.6953 received after 33 partial_fit calls\n",
      "[CV-geo, bracket=3] validation score of -0.7027 received after 34 partial_fit calls\n",
      "[CV-geo, bracket=2] validation score of -0.6859 received after 32 partial_fit calls\n",
      "[CV-geo, bracket=3] validation score of -0.7071 received after 36 partial_fit calls\n",
      "[CV-geo, bracket=2] validation score of -0.7012 received after 34 partial_fit calls\n",
      "[CV-geo, bracket=1] validation score of -0.6082 received after 35 partial_fit calls\n",
      "[CV-geo, bracket=1] validation score of -0.6060 received after 37 partial_fit calls\n",
      "[CV-geo, bracket=0] validation score of -0.6983 received after 35 partial_fit calls\n",
      "[CV-geo, bracket=2] validation score of -0.7082 received after 36 partial_fit calls\n",
      "[CV-geo, bracket=3] validation score of -0.7165 received after 38 partial_fit calls\n",
      "[CV-geo, bracket=3] validation score of -0.7290 received after 40 partial_fit calls\n",
      "[CV-geo, bracket=0] validation score of -0.7104 received after 37 partial_fit calls\n",
      "[CV-geo, bracket=2] validation score of -0.7218 received after 38 partial_fit calls\n",
      "[CV-geo, bracket=1] validation score of -0.6057 received after 39 partial_fit calls\n",
      "[CV-geo, bracket=2] validation score of -0.7335 received after 40 partial_fit calls\n",
      "[CV-geo, bracket=3] validation score of -0.7410 received after 42 partial_fit calls\n",
      "[CV-geo, bracket=1] validation score of -0.6084 received after 41 partial_fit calls\n",
      "[CV-geo, bracket=3] validation score of -0.7486 received after 44 partial_fit calls\n",
      "[CV-geo, bracket=0] validation score of -0.7285 received after 39 partial_fit calls\n",
      "[CV-geo, bracket=3] validation score of -0.7802 received after 46 partial_fit calls\n",
      "[CV-geo, bracket=2] validation score of -0.7454 received after 42 partial_fit calls\n",
      "[CV-geo, bracket=1] validation score of -0.6128 received after 43 partial_fit calls\n",
      "[CV-geo, bracket=2] validation score of -0.7539 received after 44 partial_fit calls\n",
      "[CV-geo, bracket=1] validation score of -0.6165 received after 45 partial_fit calls\n",
      "[CV-geo, bracket=3] validation score of -0.7823 received after 48 partial_fit calls\n",
      "[CV-geo, bracket=0] validation score of -0.7286 received after 41 partial_fit calls\n",
      "[CV-geo, bracket=3] validation score of -0.7917 received after 50 partial_fit calls\n",
      "[CV-geo, bracket=2] validation score of -0.7674 received after 46 partial_fit calls\n",
      "[CV-geo, bracket=0] validation score of -0.7464 received after 43 partial_fit calls\n",
      "[CV-geo, bracket=1] validation score of -0.6193 received after 47 partial_fit calls\n",
      "[CV-geo, bracket=2] validation score of -0.7880 received after 48 partial_fit calls\n",
      "[CV-geo, bracket=3] validation score of -0.8106 received after 52 partial_fit calls\n",
      "[CV-geo, bracket=1] validation score of -0.6286 received after 49 partial_fit calls\n",
      "[CV-geo, bracket=3] validation score of -0.8150 received after 54 partial_fit calls\n"
     ]
    }
   ],
   "source": [
    "running_searches"
   ]
  },
  {
   "cell_type": "code",
   "execution_count": 35,
   "metadata": {},
   "outputs": [],
   "source": [
    "finished_searches = running_searches.result()"
   ]
  },
  {
   "cell_type": "code",
   "execution_count": 37,
   "metadata": {},
   "outputs": [],
   "source": [
    "import json\n",
    "\n",
    "ident = \"geo\"\n",
    "for finished_search in finished_searches:\n",
    "    name = \"data/\" + finished_search.prefix[1:]\n",
    "    pd.DataFrame(finished_search.cv_results_).to_csv(f\"{name}-cv-results.csv\", index=False)\n",
    "    pd.DataFrame(finished_search.history_).to_csv(f\"{name}-hist.csv\", index=False)\n",
    "    pd.DataFrame(finished_search.best_estimator_.history_).to_csv(f\"{name}-best-est-hist.csv\", index=False)\n",
    "    with open(f\"{name}-best-params.json\", \"w\") as f:\n",
    "        json.dump(finished_search.best_params_, f)\n"
   ]
  },
  {
   "cell_type": "code",
   "execution_count": null,
   "metadata": {},
   "outputs": [],
   "source": []
  }
 ],
 "metadata": {
  "kernelspec": {
   "display_name": "Python [conda env:skorch]",
   "language": "python",
   "name": "conda-env-skorch-py"
  },
  "language_info": {
   "codemirror_mode": {
    "name": "ipython",
    "version": 3
   },
   "file_extension": ".py",
   "mimetype": "text/x-python",
   "name": "python",
   "nbconvert_exporter": "python",
   "pygments_lexer": "ipython3",
   "version": "3.7.6"
  }
 },
 "nbformat": 4,
 "nbformat_minor": 4
}
