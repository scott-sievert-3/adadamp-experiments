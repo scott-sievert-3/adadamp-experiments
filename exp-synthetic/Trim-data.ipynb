{
 "cells": [
  {
   "cell_type": "code",
   "execution_count": null,
   "metadata": {},
   "outputs": [],
   "source": [
    "import pandas as pd\n",
    "from pathlib import Path\n",
    "\n",
    "def trim_train(df):\n",
    "    cols = [\"model_updates\", \"num_examples\", \"damper\", \"damping\", \"batch_size\", \"epochs\", \"seed\", \"_complete_loss\"]\n",
    "    return df[cols]\n",
    "    \n",
    "def trim_test(df):\n",
    "    return df\n",
    "\n",
    "data_dir = Path(\"data\")\n",
    "dfs = {f.name: trim_test(pd.read_parquet(f)) for f in data_dir.glob(\"*.parquet\") if \"-train\" not in f.name}\n",
    "train_dfs = {f.name: trim_train(pd.read_parquet(f)) for f in data_dir.glob(\"*.parquet\") if \"-train\" in f.name}\n"
   ]
  },
  {
   "cell_type": "code",
   "execution_count": null,
   "metadata": {},
   "outputs": [],
   "source": [
    "%debug"
   ]
  },
  {
   "cell_type": "code",
   "execution_count": null,
   "metadata": {},
   "outputs": [],
   "source": [
    "out_dir = Path(\"data-trimmed\")"
   ]
  },
  {
   "cell_type": "code",
   "execution_count": null,
   "metadata": {},
   "outputs": [],
   "source": [
    "for name, df in dfs.items():\n",
    "    df.to_parquet(out_dir / name, engine=\"pyarrow\", compression=\"zstd\", compression_level=10)"
   ]
  },
  {
   "cell_type": "code",
   "execution_count": null,
   "metadata": {},
   "outputs": [],
   "source": [
    "for name, df in train_dfs.items():\n",
    "    df.to_parquet(out_dir / name, engine=\"pyarrow\", compression=\"zstd\", compression_level=10)"
   ]
  },
  {
   "cell_type": "code",
   "execution_count": null,
   "metadata": {},
   "outputs": [],
   "source": [
    "k = list(train_dfs.keys())[0]\n",
    "train_dfs[k].columns"
   ]
  },
  {
   "cell_type": "code",
   "execution_count": null,
   "metadata": {},
   "outputs": [],
   "source": [
    "dfs.keys()"
   ]
  },
  {
   "cell_type": "code",
   "execution_count": null,
   "metadata": {},
   "outputs": [],
   "source": []
  }
 ],
 "metadata": {
  "kernelspec": {
   "display_name": "Python 3",
   "language": "python",
   "name": "python3"
  },
  "language_info": {
   "codemirror_mode": {
    "name": "ipython",
    "version": 3
   },
   "file_extension": ".py",
   "mimetype": "text/x-python",
   "name": "python",
   "nbconvert_exporter": "python",
   "pygments_lexer": "ipython3",
   "version": "3.7.4"
  }
 },
 "nbformat": 4,
 "nbformat_minor": 4
}
